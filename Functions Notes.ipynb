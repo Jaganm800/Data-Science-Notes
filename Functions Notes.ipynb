{
 "cells": [
  {
   "cell_type": "markdown",
   "id": "af744f2c",
   "metadata": {},
   "source": [
    "# Functions\n",
    "\n",
    "Functions are modular blocks of code designed to perform specific tasks. They enhance code efficiency and clarity by reducing code repetition and enabling code reuse"
   ]
  },
  {
   "cell_type": "markdown",
   "id": "828ff63f",
   "metadata": {},
   "source": [
    "Types of Functions in Python: Python primarily categorizes functions into two types:\n",
    "\n",
    "__Built-in Functions__: These are predefined functions in Python that are readily available for use. Examples include len(), range(), and abs()\n",
    "\n",
    "__User-defined Functions__: As the name suggests, these are the functions defined by the users to perform specific tasks.\n"
   ]
  },
  {
   "cell_type": "markdown",
   "id": "694c7c94",
   "metadata": {},
   "source": [
    "__Python Function Declaration__: In Python, a function is declared using the keyword def, succeeded by the name of the function and enclosed parentheses, which may enclose parameters. The syntax is as follows:"
   ]
  },
  {
   "cell_type": "code",
   "execution_count": 41,
   "id": "172cd6bb",
   "metadata": {},
   "outputs": [],
   "source": [
    "def function_name(parameters):\n",
    "    # function body\n",
    "    pass\n",
    "#colon starts the block of code and it is a mandatory one"
   ]
  },
  {
   "cell_type": "markdown",
   "id": "a9011c70",
   "metadata": {},
   "source": [
    "__Function Name__: This is the identifier for the function. It follows the same naming conventions as variables in Python. The function name should be descriptive enough to indicate what the function does.\n",
    "\n",
    "__Parameters (Optional)__: These are variables that accept values passed into the function. Parameters are optional; a function may have none. Inside the function, parameters behave like local variables.\n",
    "\n",
    "__Function Body__: This block of code performs a specific task. It starts with a colon (:) and is indented. The function body typically contains at least one statement. The return statement can be used to send back a result from the function to the caller. None is returned if no return statement is used."
   ]
  },
  {
   "cell_type": "code",
   "execution_count": 42,
   "id": "0677ece6",
   "metadata": {},
   "outputs": [],
   "source": [
    "#Example:\n",
    "\n",
    "#function definition\n",
    "\n",
    "def prepare_for_guests():\n",
    "    print(\"Dust all the rooms!\")\n",
    "    print(\"Arrange the living area!\")\n",
    "    print(\"Go out and get cold drinks and chips!\")\n",
    "    print(\"Take out the fancy dinner set!\")\n",
    "    print(\"Touch their feet when you see them!\")"
   ]
  },
  {
   "cell_type": "code",
   "execution_count": 43,
   "id": "da33b228",
   "metadata": {},
   "outputs": [
    {
     "name": "stdout",
     "output_type": "stream",
     "text": [
      "Dust all the rooms!\n",
      "Arrange the living area!\n",
      "Go out and get cold drinks and chips!\n",
      "Take out the fancy dinner set!\n",
      "Touch their feet when you see them!\n"
     ]
    }
   ],
   "source": [
    "#Calling a function:\n",
    "\n",
    "prepare_for_guests() #No colon when calling a function"
   ]
  },
  {
   "cell_type": "code",
   "execution_count": 44,
   "id": "96f4f365",
   "metadata": {},
   "outputs": [],
   "source": [
    "# FUNCTIONS CAN ACCEPT ARGUMENTS!\n",
    "\n",
    "def sheldon_knock(name):\n",
    "    print(\"knock knock knock\", name)\n",
    "    print(\"knock knock knock\", name)\n",
    "    print(\"knock knock knock\", name)"
   ]
  },
  {
   "cell_type": "code",
   "execution_count": 45,
   "id": "a475badc",
   "metadata": {},
   "outputs": [
    {
     "name": "stdout",
     "output_type": "stream",
     "text": [
      "knock knock knock J & M\n",
      "knock knock knock J & M\n",
      "knock knock knock J & M\n"
     ]
    }
   ],
   "source": [
    "sheldon_knock(\"J & M\")"
   ]
  },
  {
   "cell_type": "markdown",
   "id": "bbbf7356",
   "metadata": {},
   "source": [
    "# Note: Functions can accept Parameters / Arguments"
   ]
  },
  {
   "cell_type": "markdown",
   "id": "6b5517ee",
   "metadata": {},
   "source": [
    "What is an argument: An argument, in Python functions, refers to a value you pass to a function when you call it. These values are used by the function to perform its task. Arguments are also called as parameters."
   ]
  },
  {
   "cell_type": "markdown",
   "id": "1ad812be",
   "metadata": {},
   "source": [
    "Types of arguments in Python:\n",
    "\n",
    "1. Positional arguments\n",
    "2. Keyword arguments\n",
    "3. Default arguments\n",
    "4. Arbitrary positional arguments (Will be covered after tuples & dictionaries)\n",
    "5. Arbitrary keyword arguments (Will be covered after tuples & dictionaries)\n",
    "\n",
    "The arguments in Python can be classified into two types based on definition and calling of functions\n",
    "\n",
    "1. __Based on definitation of function__: These are the arguments mentioned at the time of creating / defining the function \n",
    "   \n",
    "   a. Required arguments\n",
    "   \n",
    "   b. Default arguments \n",
    "\n",
    "2. __Based on calling of function__: These are the arguments mentioned at the time of calling the function\n",
    "   \n",
    "   a. Postional arguments\n",
    "   \n",
    "   b. Keyword arguments"
   ]
  },
  {
   "cell_type": "markdown",
   "id": "e1ddca2b",
   "metadata": {},
   "source": [
    "# Positional Arguments"
   ]
  },
  {
   "cell_type": "markdown",
   "id": "6b414e61",
   "metadata": {},
   "source": [
    "In Python, positional arguments are the most basic type of arguments that you pass to a function. When you define a function, you specify parameters inside the parentheses. When you call that function, you provide values for those parameters in the same order they're defined. These values are called positional arguments because their position (order) matters."
   ]
  },
  {
   "cell_type": "code",
   "execution_count": 46,
   "id": "42905b31",
   "metadata": {},
   "outputs": [
    {
     "name": "stdout",
     "output_type": "stream",
     "text": [
      "Hello Alice\n"
     ]
    }
   ],
   "source": [
    "def greet(name, greeting):\n",
    "    print(greeting, name)\n",
    "\n",
    "greet(\"Alice\", \"Hello\")  # Output: Hello, Alice!\n"
   ]
  },
  {
   "cell_type": "markdown",
   "id": "661936e6",
   "metadata": {},
   "source": [
    "In this example, name and greeting are parameters of the greet function. When you call greet(\"Alice\", \"Hello\"), \"Alice\" corresponds to the name parameter because it's the first argument, and \"Hello\" corresponds to the greeting parameter because it's the second argument.\n",
    "\n",
    "Positional arguments are very intuitive but can be error-prone if the order is misunderstood or if the function has many parameters and it's not clear which value corresponds to which parameter."
   ]
  },
  {
   "cell_type": "code",
   "execution_count": 47,
   "id": "0eb7e9b5",
   "metadata": {},
   "outputs": [
    {
     "name": "stdout",
     "output_type": "stream",
     "text": [
      "Alice Hello\n"
     ]
    }
   ],
   "source": [
    "def greet(name, greeting):\n",
    "    print(greeting, name)\n",
    "\n",
    "greet(\"Hello\", \"Alice\")  # Output: name is consi"
   ]
  },
  {
   "cell_type": "code",
   "execution_count": null,
   "id": "ab81961a",
   "metadata": {},
   "outputs": [],
   "source": []
  },
  {
   "cell_type": "markdown",
   "id": "afbf6739",
   "metadata": {},
   "source": [
    "In the case of positional arguments, you typically need to provide the same number of arguments as the function defines in its parameter list. This is because Python matches the arguments you pass to the function with the parameters in the order they are defined"
   ]
  },
  {
   "cell_type": "code",
   "execution_count": 48,
   "id": "ebe49739",
   "metadata": {},
   "outputs": [],
   "source": [
    "def introduce_family(father, mother, sibling, myself):\n",
    "    print(\"Father's Name -\", father)\n",
    "    print(\"Mother's Name -\", mother)\n",
    "    print(\"Sibling's Name -\", sibling)\n",
    "    print(\"My Name -\", myself)"
   ]
  },
  {
   "cell_type": "code",
   "execution_count": 49,
   "id": "569d2f84",
   "metadata": {},
   "outputs": [
    {
     "name": "stdout",
     "output_type": "stream",
     "text": [
      "Father's Name - Brad Pitt\n",
      "Mother's Name - Angelina Jolie\n",
      "Sibling's Name - Stormi\n",
      "My Name - Bipin Kalra\n"
     ]
    }
   ],
   "source": [
    "introduce_family(\"Brad Pitt\", \"Angelina Jolie\", \"Stormi\", \"Bipin Kalra\") # Works as four arguments are provided"
   ]
  },
  {
   "cell_type": "code",
   "execution_count": 50,
   "id": "eb94fd6c",
   "metadata": {},
   "outputs": [
    {
     "ename": "TypeError",
     "evalue": "introduce_family() missing 1 required positional argument: 'myself'",
     "output_type": "error",
     "traceback": [
      "\u001b[1;31m---------------------------------------------------------------------------\u001b[0m",
      "\u001b[1;31mTypeError\u001b[0m                                 Traceback (most recent call last)",
      "Cell \u001b[1;32mIn[50], line 1\u001b[0m\n\u001b[1;32m----> 1\u001b[0m introduce_family(\u001b[38;5;124m\"\u001b[39m\u001b[38;5;124mA\u001b[39m\u001b[38;5;124m\"\u001b[39m, \u001b[38;5;124m\"\u001b[39m\u001b[38;5;124mB\u001b[39m\u001b[38;5;124m\"\u001b[39m, \u001b[38;5;124m\"\u001b[39m\u001b[38;5;124mC\u001b[39m\u001b[38;5;124m\"\u001b[39m)\n",
      "\u001b[1;31mTypeError\u001b[0m: introduce_family() missing 1 required positional argument: 'myself'"
     ]
    }
   ],
   "source": [
    "introduce_family(\"A\", \"B\", \"C\") # Error as only three arguments are provided"
   ]
  },
  {
   "cell_type": "code",
   "execution_count": 51,
   "id": "ed177db1",
   "metadata": {},
   "outputs": [
    {
     "ename": "TypeError",
     "evalue": "introduce_family() takes 4 positional arguments but 5 were given",
     "output_type": "error",
     "traceback": [
      "\u001b[1;31m---------------------------------------------------------------------------\u001b[0m",
      "\u001b[1;31mTypeError\u001b[0m                                 Traceback (most recent call last)",
      "Cell \u001b[1;32mIn[51], line 1\u001b[0m\n\u001b[1;32m----> 1\u001b[0m introduce_family(\u001b[38;5;124m\"\u001b[39m\u001b[38;5;124mA\u001b[39m\u001b[38;5;124m\"\u001b[39m, \u001b[38;5;124m\"\u001b[39m\u001b[38;5;124mB\u001b[39m\u001b[38;5;124m\"\u001b[39m, \u001b[38;5;124m\"\u001b[39m\u001b[38;5;124mC\u001b[39m\u001b[38;5;124m\"\u001b[39m, \u001b[38;5;124m\"\u001b[39m\u001b[38;5;124mD\u001b[39m\u001b[38;5;124m\"\u001b[39m, \u001b[38;5;124m\"\u001b[39m\u001b[38;5;124mE\u001b[39m\u001b[38;5;124m\"\u001b[39m)\n",
      "\u001b[1;31mTypeError\u001b[0m: introduce_family() takes 4 positional arguments but 5 were given"
     ]
    }
   ],
   "source": [
    "introduce_family(\"A\", \"B\", \"C\", \"D\", \"E\") # Error as only five arguments are provided, where function is created for four"
   ]
  },
  {
   "cell_type": "markdown",
   "id": "8103c2ba",
   "metadata": {},
   "source": [
    "# Keyword arguments"
   ]
  },
  {
   "cell_type": "markdown",
   "id": "4bc91208",
   "metadata": {},
   "source": [
    "Keyword arguments in Python provide a way to specify arguments by their parameter names rather than their positions. This allows for greater clarity and flexibility when calling functions, especially when dealing with functions that have many parameters or when you want to provide values only for specific parameters without needing to follow the order they were defined in the function signature."
   ]
  },
  {
   "cell_type": "code",
   "execution_count": 52,
   "id": "0fc90c01",
   "metadata": {},
   "outputs": [
    {
     "name": "stdout",
     "output_type": "stream",
     "text": [
      "Hello Alice\n"
     ]
    }
   ],
   "source": [
    "def greet(name, greeting):\n",
    "    print(greeting, name)\n",
    "\n",
    "greet(name=\"Alice\", greeting=\"Hello\")  # Output: Hello, Alice!\n"
   ]
  },
  {
   "cell_type": "markdown",
   "id": "6091c3bc",
   "metadata": {},
   "source": [
    "In this example, name and greeting are the parameters of the greet function. When calling the function, instead of relying on the order of parameters, you explicitly specify which value corresponds to which parameter by using the parameter names (name= and greeting=). This makes the code more readable and less error-prone, especially when dealing with functions that have many parameters or when you want to provide values only for specific parameters."
   ]
  },
  {
   "cell_type": "code",
   "execution_count": 53,
   "id": "88394788",
   "metadata": {},
   "outputs": [],
   "source": [
    "#examples\n",
    "\n",
    "def introduce_family(father, mother, sibling, myself):\n",
    "    print(\"Father's Name -\", father)\n",
    "    print(\"Mother's Name -\", mother)\n",
    "    print(\"Sibling's Name -\", sibling)\n",
    "    print(\"My Name -\", myself)"
   ]
  },
  {
   "cell_type": "code",
   "execution_count": 54,
   "id": "d172e58a",
   "metadata": {
    "scrolled": true
   },
   "outputs": [
    {
     "name": "stdout",
     "output_type": "stream",
     "text": [
      "Father's Name - Angelina Jolie\n",
      "Mother's Name - Brad Pitt\n",
      "Sibling's Name - Stormi\n",
      "My Name - Bipin Kalra\n"
     ]
    }
   ],
   "source": [
    "introduce_family(\"Angelina Jolie\", \"Brad Pitt\", \"Stormi\", \"Bipin Kalra\")\n",
    "\n",
    "#Actual: Father's Name - Brad Pitt, Mother's Name - Angelina Jolie, Sibling's Name - Stormi, My Name - Bipin Kalra\n",
    "#Due to incorrect order provided, mother's name is considered as father and father's name is considered as mother "
   ]
  },
  {
   "cell_type": "code",
   "execution_count": 55,
   "id": "ee0d3676",
   "metadata": {},
   "outputs": [
    {
     "name": "stdout",
     "output_type": "stream",
     "text": [
      "Father's Name - Brad Pitt\n",
      "Mother's Name - Angelina Jolie\n",
      "Sibling's Name - Stormi\n",
      "My Name - Bipin Kalra\n"
     ]
    }
   ],
   "source": [
    "# KEYWORDED ARGUMENTS!\n",
    "introduce_family(myself = \"Bipin Kalra\", father = \"Brad Pitt\", mother = \"Angelina Jolie\", sibling = \"Stormi\")"
   ]
  },
  {
   "cell_type": "code",
   "execution_count": 56,
   "id": "80466bda",
   "metadata": {},
   "outputs": [
    {
     "name": "stdout",
     "output_type": "stream",
     "text": [
      "Father's Name - Brad Pitt\n",
      "Mother's Name - Angelina Jolie\n",
      "Sibling's Name - Stormi\n",
      "My Name - Bipin Kalra\n"
     ]
    }
   ],
   "source": [
    "# Just another way of writing the same\n",
    "introduce_family(\n",
    "    myself = \"Bipin Kalra\",\n",
    "    father = \"Brad Pitt\",\n",
    "    mother = \"Angelina Jolie\",\n",
    "    sibling = \"Stormi\"\n",
    ")"
   ]
  },
  {
   "cell_type": "markdown",
   "id": "f854f072",
   "metadata": {},
   "source": [
    "Note: Keyword arguments always follows positional arguments. Positional arguments can't follow keyword argument and will result in an error."
   ]
  },
  {
   "cell_type": "code",
   "execution_count": 57,
   "id": "09b7bb51",
   "metadata": {},
   "outputs": [],
   "source": [
    "#example:\n",
    "\n",
    "def random(a, b, c, d):\n",
    "    print(\"a ->\", a)\n",
    "    print(\"b ->\", b)\n",
    "    print(\"c ->\", c)\n",
    "    print(\"d ->\", d)"
   ]
  },
  {
   "cell_type": "code",
   "execution_count": 58,
   "id": "5bbb8b07",
   "metadata": {},
   "outputs": [
    {
     "ename": "SyntaxError",
     "evalue": "positional argument follows keyword argument (1595835259.py, line 1)",
     "output_type": "error",
     "traceback": [
      "\u001b[1;36m  Cell \u001b[1;32mIn[58], line 1\u001b[1;36m\u001b[0m\n\u001b[1;33m    random(b = 6, c = 7, d = 8, 9)\u001b[0m\n\u001b[1;37m                                 ^\u001b[0m\n\u001b[1;31mSyntaxError\u001b[0m\u001b[1;31m:\u001b[0m positional argument follows keyword argument\n"
     ]
    }
   ],
   "source": [
    "random(b = 6, c = 7, d = 8, 9)\n",
    "#positional argument follows keyword argument"
   ]
  },
  {
   "cell_type": "code",
   "execution_count": 59,
   "id": "f77f1d28",
   "metadata": {},
   "outputs": [
    {
     "name": "stdout",
     "output_type": "stream",
     "text": [
      "a -> 9\n",
      "b -> 7\n",
      "c -> 8\n",
      "d -> 7\n"
     ]
    }
   ],
   "source": [
    "random(9, 7, c = 8, d = 7)\n",
    "#Keyword arguments follows positional arguments, so no error."
   ]
  },
  {
   "cell_type": "code",
   "execution_count": 60,
   "id": "8dd63bfe",
   "metadata": {},
   "outputs": [
    {
     "ename": "TypeError",
     "evalue": "random() got multiple values for argument 'b'",
     "output_type": "error",
     "traceback": [
      "\u001b[1;31m---------------------------------------------------------------------------\u001b[0m",
      "\u001b[1;31mTypeError\u001b[0m                                 Traceback (most recent call last)",
      "Cell \u001b[1;32mIn[60], line 1\u001b[0m\n\u001b[1;32m----> 1\u001b[0m random(\u001b[38;5;241m9\u001b[39m, \u001b[38;5;241m7\u001b[39m, b \u001b[38;5;241m=\u001b[39m \u001b[38;5;241m8\u001b[39m, d \u001b[38;5;241m=\u001b[39m \u001b[38;5;241m7\u001b[39m)\n",
      "\u001b[1;31mTypeError\u001b[0m: random() got multiple values for argument 'b'"
     ]
    }
   ],
   "source": [
    "random(9, 7, b = 8, d = 7)\n",
    "#two values are provided for b. 1. By way of positional argument and 2. By way of keyword argument"
   ]
  },
  {
   "cell_type": "markdown",
   "id": "93e49608",
   "metadata": {},
   "source": [
    "# Required Arguments"
   ]
  },
  {
   "cell_type": "markdown",
   "id": "484158ec",
   "metadata": {},
   "source": [
    "In Python, required arguments are parameters that must be passed to a function when it's called. These arguments are mandatory, meaning the function won't execute properly if they are not provided.\n",
    "\n",
    "Here's an example of a function with required arguments:"
   ]
  },
  {
   "cell_type": "code",
   "execution_count": 1,
   "id": "78c7c7ab",
   "metadata": {},
   "outputs": [
    {
     "name": "stdout",
     "output_type": "stream",
     "text": [
      "Hello, Alice!\n"
     ]
    }
   ],
   "source": [
    "def greet(name):\n",
    "    print(\"Hello, \" + name + \"!\")\n",
    "\n",
    "# Call the function with a required argument\n",
    "greet(\"Alice\")\n"
   ]
  },
  {
   "cell_type": "markdown",
   "id": "8af06595",
   "metadata": {},
   "source": [
    "In this example, name is a required argument for the greet function. When you call greet(\"Alice\"), you must provide a value for name, otherwise, Python will raise an error."
   ]
  },
  {
   "cell_type": "code",
   "execution_count": 2,
   "id": "282e3563",
   "metadata": {},
   "outputs": [],
   "source": [
    "def simple_interest(p, r, t):\n",
    "    interest = (p * r * t) / 100\n",
    "    \n",
    "    return interest\n",
    "#p, r, t are required arguments"
   ]
  },
  {
   "cell_type": "code",
   "execution_count": 8,
   "id": "bfc9e806",
   "metadata": {},
   "outputs": [
    {
     "data": {
      "text/plain": [
       "2500.0"
      ]
     },
     "execution_count": 8,
     "metadata": {},
     "output_type": "execute_result"
    }
   ],
   "source": [
    "simple_interest(10000, 5, 5)\n",
    "\n",
    "#p, r, t are required arguments. So, its mandatory to provide them while calling the function"
   ]
  },
  {
   "cell_type": "markdown",
   "id": "aa1a2f27",
   "metadata": {},
   "source": [
    "# Default Arguments"
   ]
  },
  {
   "cell_type": "markdown",
   "id": "c58350ee",
   "metadata": {},
   "source": [
    "In Python, default arguments are parameters in a function that have a predetermined value assigned to them while creating a function. If a value is not provided for these parameters when the function is called, the default value is used.\n",
    "\n",
    "Here's an example of a function with default arguments:"
   ]
  },
  {
   "cell_type": "code",
   "execution_count": 4,
   "id": "88913250",
   "metadata": {},
   "outputs": [
    {
     "name": "stdout",
     "output_type": "stream",
     "text": [
      "Hi, Alice!\n",
      "Hello, Bob!\n"
     ]
    }
   ],
   "source": [
    "def greet(name, greeting=\"Hello\"):\n",
    "    print(greeting + \", \" + name + \"!\")\n",
    "\n",
    "# Call the function with both arguments\n",
    "greet(\"Alice\", \"Hi\")\n",
    "\n",
    "# Call the function without providing the second argument\n",
    "greet(\"Bob\")"
   ]
  },
  {
   "cell_type": "markdown",
   "id": "3f56d996",
   "metadata": {},
   "source": [
    "In this example, the greet function has two parameters: name and greeting. The greeting parameter has a default value of \"Hello\". When calling greet(\"Alice\", \"Hi\"), both arguments are provided explicitly. However, when calling greet(\"Bob\"), only the name argument is provided, so the default value \"Hello\" is used for the greeting parameter."
   ]
  },
  {
   "cell_type": "code",
   "execution_count": 5,
   "id": "deaca9b7",
   "metadata": {},
   "outputs": [],
   "source": [
    "#example\n",
    "\n",
    "def simple_interest(p, r, t=10):\n",
    "    interest = (p * r * t) / 100\n",
    "    \n",
    "    return interest\n",
    "#p, r, t are required arguments"
   ]
  },
  {
   "cell_type": "code",
   "execution_count": 7,
   "id": "8e364bb2",
   "metadata": {},
   "outputs": [
    {
     "data": {
      "text/plain": [
       "5000.0"
      ]
     },
     "execution_count": 7,
     "metadata": {},
     "output_type": "execute_result"
    }
   ],
   "source": [
    "simple_interest(10000, 5)\n",
    "\n",
    "#p, r are required arguments and t is a default argument"
   ]
  },
  {
   "cell_type": "code",
   "execution_count": 9,
   "id": "3aec288e",
   "metadata": {},
   "outputs": [
    {
     "ename": "SyntaxError",
     "evalue": "non-default argument follows default argument (2889520194.py, line 1)",
     "output_type": "error",
     "traceback": [
      "\u001b[1;36m  Cell \u001b[1;32mIn[9], line 1\u001b[1;36m\u001b[0m\n\u001b[1;33m    def simple_interest(p, r = 5, t):\u001b[0m\n\u001b[1;37m                                  ^\u001b[0m\n\u001b[1;31mSyntaxError\u001b[0m\u001b[1;31m:\u001b[0m non-default argument follows default argument\n"
     ]
    }
   ],
   "source": [
    "def simple_interest(p, r = 5, t):\n",
    "    interest = (p * r * t) / 100\n",
    "    \n",
    "    return interest\n",
    "\n",
    "'''\n",
    "Python does not allow the creation of functions\n",
    "where there are optional arguments before required arguments!\n",
    "The order should always be -> REQUIRED followed by OPTIONAL (DEFAULT)\n",
    "'''"
   ]
  },
  {
   "cell_type": "markdown",
   "id": "af68d3b1",
   "metadata": {},
   "source": [
    "Python does not allow the creation of functions, where there are optional arguments before required arguments!\n",
    "\n",
    "The order should always be -> REQUIRED followed by OPTIONAL (DEFAULT)"
   ]
  },
  {
   "cell_type": "code",
   "execution_count": 10,
   "id": "922cb49e",
   "metadata": {},
   "outputs": [],
   "source": [
    "#valid one\n",
    "def simple_interest(p, t, r = 5):\n",
    "    interest = (p * r * t) / 100\n",
    "    \n",
    "    return interest"
   ]
  },
  {
   "cell_type": "code",
   "execution_count": 12,
   "id": "51e27072",
   "metadata": {},
   "outputs": [
    {
     "data": {
      "text/plain": [
       "2500.0"
      ]
     },
     "execution_count": 12,
     "metadata": {},
     "output_type": "execute_result"
    }
   ],
   "source": [
    "simple_interest(10000, 5) #p  is considered as 10000, t is considered as 10 based on postional arguments"
   ]
  },
  {
   "cell_type": "markdown",
   "id": "ab9051a7",
   "metadata": {},
   "source": [
    "Question 1 - \n",
    "\n",
    "Create a date printing function - \n",
    "\n",
    "Should take 4 arguments -> day, month, year and style\n",
    "\n",
    "\n",
    "Styling Logic - \n",
    "\n",
    "style -> 0 -> d/m/y\n",
    "\n",
    "style -> 1 -> m/d/y\n",
    "\n",
    "style -> any other value -> Invalid Style\n",
    "\n",
    "\n",
    "default style is 0."
   ]
  },
  {
   "cell_type": "code",
   "execution_count": 13,
   "id": "f92e4d83",
   "metadata": {},
   "outputs": [],
   "source": [
    "def date_print(day, month, year, style = 0):\n",
    "    if style == 0:\n",
    "        print(day, month, year, sep = \"/\")\n",
    "    elif style == 1:\n",
    "        print(month, day, year, sep = \"/\")\n",
    "    else:\n",
    "        print(\"Invalid Style\")"
   ]
  },
  {
   "cell_type": "code",
   "execution_count": 16,
   "id": "b21bb9fc",
   "metadata": {},
   "outputs": [
    {
     "name": "stdout",
     "output_type": "stream",
     "text": [
      "27/8/1998\n"
     ]
    }
   ],
   "source": [
    "date_print(27,8,1998) #defalut = 0"
   ]
  },
  {
   "cell_type": "code",
   "execution_count": 20,
   "id": "f1df23c7",
   "metadata": {},
   "outputs": [
    {
     "name": "stdout",
     "output_type": "stream",
     "text": [
      "8/27/1998\n"
     ]
    }
   ],
   "source": [
    "date_print(27,8,1998, 1)"
   ]
  },
  {
   "cell_type": "code",
   "execution_count": 21,
   "id": "27e638e4",
   "metadata": {},
   "outputs": [
    {
     "name": "stdout",
     "output_type": "stream",
     "text": [
      "6/3/1999\n"
     ]
    }
   ],
   "source": [
    "date_print(6,3,1999, 0)"
   ]
  },
  {
   "cell_type": "code",
   "execution_count": 22,
   "id": "ddfb93e0",
   "metadata": {},
   "outputs": [
    {
     "ename": "SyntaxError",
     "evalue": "leading zeros in decimal integer literals are not permitted; use an 0o prefix for octal integers (2558339179.py, line 1)",
     "output_type": "error",
     "traceback": [
      "\u001b[1;36m  Cell \u001b[1;32mIn[22], line 1\u001b[1;36m\u001b[0m\n\u001b[1;33m    date_print(06,03,1998)\u001b[0m\n\u001b[1;37m               ^\u001b[0m\n\u001b[1;31mSyntaxError\u001b[0m\u001b[1;31m:\u001b[0m leading zeros in decimal integer literals are not permitted; use an 0o prefix for octal integers\n"
     ]
    }
   ],
   "source": [
    "date_print(06,03,1998) "
   ]
  },
  {
   "cell_type": "markdown",
   "id": "d6806ee5",
   "metadata": {},
   "source": [
    " # LEADING ZEROS NOT ALLOWED in Python"
   ]
  },
  {
   "cell_type": "code",
   "execution_count": 25,
   "id": "bb98c964",
   "metadata": {},
   "outputs": [
    {
     "ename": "SyntaxError",
     "evalue": "leading zeros in decimal integer literals are not permitted; use an 0o prefix for octal integers (929923138.py, line 1)",
     "output_type": "error",
     "traceback": [
      "\u001b[1;36m  Cell \u001b[1;32mIn[25], line 1\u001b[1;36m\u001b[0m\n\u001b[1;33m    date_print(06,03,1998)  #incorrect one\u001b[0m\n\u001b[1;37m               ^\u001b[0m\n\u001b[1;31mSyntaxError\u001b[0m\u001b[1;31m:\u001b[0m leading zeros in decimal integer literals are not permitted; use an 0o prefix for octal integers\n"
     ]
    }
   ],
   "source": [
    "date_print(06,03,1998)  #incorrect one"
   ]
  },
  {
   "cell_type": "code",
   "execution_count": 26,
   "id": "400c4414",
   "metadata": {},
   "outputs": [
    {
     "name": "stdout",
     "output_type": "stream",
     "text": [
      "6/3/1998\n"
     ]
    }
   ],
   "source": [
    "date_print(6, 3,1998) #correct one"
   ]
  },
  {
   "cell_type": "markdown",
   "id": "a17e72e7",
   "metadata": {},
   "source": [
    "# Scope of variables in Python"
   ]
  },
  {
   "cell_type": "markdown",
   "id": "cf9bbac4",
   "metadata": {},
   "source": [
    "In Python, variables can be categorized into two main types based on their scope: local variables and global variables."
   ]
  },
  {
   "cell_type": "markdown",
   "id": "ff5eaec1",
   "metadata": {},
   "source": [
    "# Local Variables:"
   ]
  },
  {
   "cell_type": "markdown",
   "id": "ec1f053d",
   "metadata": {},
   "source": [
    "1. Local variables are defined within a function and are accessible only within that function.\n",
    "\n",
    "2. They are created when the function is called and are destroyed when the function exits.\n",
    "\n",
    "3. Local variables cannot be accessed from outside the function.\n",
    "\n",
    "4. If you try to access a local variable from outside its function, you'll encounter a NameError."
   ]
  },
  {
   "cell_type": "code",
   "execution_count": 27,
   "id": "c337b549",
   "metadata": {},
   "outputs": [
    {
     "name": "stdout",
     "output_type": "stream",
     "text": [
      "10\n"
     ]
    }
   ],
   "source": [
    "def my_function():\n",
    "    x = 10  # Local variable\n",
    "    print(x)\n",
    "\n",
    "my_function()\n",
    "# print(x)  # This would cause a NameError because x is not accessible here"
   ]
  },
  {
   "cell_type": "code",
   "execution_count": 29,
   "id": "66603e19",
   "metadata": {},
   "outputs": [
    {
     "ename": "NameError",
     "evalue": "name 'x' is not defined",
     "output_type": "error",
     "traceback": [
      "\u001b[1;31m---------------------------------------------------------------------------\u001b[0m",
      "\u001b[1;31mNameError\u001b[0m                                 Traceback (most recent call last)",
      "Cell \u001b[1;32mIn[29], line 1\u001b[0m\n\u001b[1;32m----> 1\u001b[0m \u001b[38;5;28mprint\u001b[39m(x)\n",
      "\u001b[1;31mNameError\u001b[0m: name 'x' is not defined"
     ]
    }
   ],
   "source": [
    "print(x) # x defined in the above cell is a local variable and hence we can't access the same outside the variable"
   ]
  },
  {
   "cell_type": "markdown",
   "id": "fb7ad436",
   "metadata": {},
   "source": [
    "# Global Variables:"
   ]
  },
  {
   "cell_type": "markdown",
   "id": "da2a120d",
   "metadata": {},
   "source": [
    "1. Global variables are defined at the outermost level of a script or module and are accessible from anywhere within that script or module.\n",
    "\n",
    "2. They can be accessed and modified by any function within the script or module.\n",
    "\n",
    "3. If you want to modify a global variable from within a function, you need to use the global keyword to indicate that you're referring to the global variable, rather than creating a new local variable with the same name."
   ]
  },
  {
   "cell_type": "code",
   "execution_count": 31,
   "id": "9eaed4ca",
   "metadata": {},
   "outputs": [
    {
     "name": "stdout",
     "output_type": "stream",
     "text": [
      "20\n",
      "20\n"
     ]
    }
   ],
   "source": [
    "x = 10  # Global variable\n",
    "\n",
    "def my_function():\n",
    "    global x  # Declare x as global within the function\n",
    "    x = 20    # Modify the global variable\n",
    "    print(x)\n",
    "\n",
    "my_function()\n",
    "print(x)  # This will print 20, as the global variable x was modified inside the function"
   ]
  },
  {
   "cell_type": "markdown",
   "id": "2ab8f696",
   "metadata": {},
   "source": [
    "Note: It's generally considered good practice to minimize the use of global variables because they can make code harder to understand and maintain. Instead, it's often better to use parameters and return values to pass data between functions."
   ]
  },
  {
   "cell_type": "code",
   "execution_count": 32,
   "id": "e7616309",
   "metadata": {},
   "outputs": [],
   "source": [
    "#Examples"
   ]
  },
  {
   "cell_type": "code",
   "execution_count": 33,
   "id": "f26308e6",
   "metadata": {},
   "outputs": [
    {
     "name": "stdout",
     "output_type": "stream",
     "text": [
      "Inside random1 - 10\n",
      "Inside random2 - 20\n",
      "Outside - 10\n"
     ]
    }
   ],
   "source": [
    "a = 10 # global variable\n",
    "\n",
    "def random1():\n",
    "    print(\"Inside random1 -\", a)\n",
    "    \n",
    "def random2():\n",
    "    a = 20 # local variable\n",
    "    print(\"Inside random2 -\", a)\n",
    "    \n",
    "random1()\n",
    "random2()\n",
    "\n",
    "print(\"Outside -\", a)"
   ]
  },
  {
   "cell_type": "code",
   "execution_count": 34,
   "id": "eefb964e",
   "metadata": {},
   "outputs": [
    {
     "name": "stdout",
     "output_type": "stream",
     "text": [
      "Chief of home - Mother\n",
      "New chief of home - Father\n",
      "Actual and Forver chief of home - Mother\n"
     ]
    }
   ],
   "source": [
    "chief_of_home = \"Mother\" # global variable\n",
    "\n",
    "print(\"Chief of home -\", chief_of_home)\n",
    "\n",
    "def change_chief():\n",
    "    chief_of_home = \"Father\" # local variable\n",
    "    print(\"New chief of home -\", chief_of_home)\n",
    "    \n",
    "change_chief()\n",
    "\n",
    "print(\"Actual and Forver chief of home -\", chief_of_home)"
   ]
  },
  {
   "cell_type": "markdown",
   "id": "b1626743",
   "metadata": {},
   "source": [
    "# We can update the global variable inside a function by using __global__ keyword"
   ]
  },
  {
   "cell_type": "code",
   "execution_count": 35,
   "id": "b86b37d6",
   "metadata": {},
   "outputs": [
    {
     "name": "stdout",
     "output_type": "stream",
     "text": [
      "Inside the function. a - 20\n",
      "Outside the function. a - 20\n"
     ]
    }
   ],
   "source": [
    "a = 10\n",
    "\n",
    "def random():\n",
    "    global a # Tells python that you are working with global a in this function\n",
    "    \n",
    "    a = 20 # global a will get updated\n",
    "    print(\"Inside the function. a -\", a)\n",
    "    \n",
    "random()\n",
    "print(\"Outside the function. a -\", a)"
   ]
  },
  {
   "cell_type": "code",
   "execution_count": 36,
   "id": "1154e0a9",
   "metadata": {},
   "outputs": [
    {
     "name": "stdout",
     "output_type": "stream",
     "text": [
      "Inside random1 - 10\n",
      "Inside random2 - 20\n",
      "Outside - 500000000\n"
     ]
    }
   ],
   "source": [
    "a = 10 # global variable\n",
    "    \n",
    "def random2():\n",
    "    a = 20 # local variable\n",
    "    print(\"Inside random2 -\", a)\n",
    "    \n",
    "random1()\n",
    "random2()\n",
    "\n",
    "a = 500000000\n",
    "\n",
    "print(\"Outside -\", a)"
   ]
  },
  {
   "cell_type": "markdown",
   "id": "20a0826f",
   "metadata": {},
   "source": [
    "# Lambda Functions"
   ]
  },
  {
   "cell_type": "markdown",
   "id": "370beafb",
   "metadata": {},
   "source": [
    "Lambda functions, also known as anonymous functions or lambda expressions, are a way of creating small, unnamed functions in Python. They are particularly useful when you need a simple function for a short period of time and don't want to define a full-fledged function using the def keyword.\n",
    "\n",
    "Here's the basic syntax of a lambda function:"
   ]
  },
  {
   "cell_type": "code",
   "execution_count": 39,
   "id": "5f23c654",
   "metadata": {},
   "outputs": [],
   "source": [
    "lambda arguments: expression\n",
    "pass #entered to avoid error"
   ]
  },
  {
   "cell_type": "markdown",
   "id": "ba3c8c72",
   "metadata": {},
   "source": [
    "The lambda keyword is used to create the lambda function.\n",
    "\n",
    "Arguments are the input parameters of the function.\n",
    "\n",
    "The expression is the operation that the function performs on its arguments."
   ]
  },
  {
   "cell_type": "code",
   "execution_count": 40,
   "id": "a78f98da",
   "metadata": {},
   "outputs": [],
   "source": [
    "###########################################################################"
   ]
  },
  {
   "cell_type": "markdown",
   "id": "873f5b9f",
   "metadata": {},
   "source": [
    "Lambda functions can take any number of arguments, but they must evaluate to a single expression.\n",
    "\n",
    "Let's see a simple example to illustrate the usage of lambda functions:"
   ]
  },
  {
   "cell_type": "code",
   "execution_count": 41,
   "id": "927d0de4",
   "metadata": {},
   "outputs": [
    {
     "name": "stdout",
     "output_type": "stream",
     "text": [
      "8\n",
      "8\n"
     ]
    }
   ],
   "source": [
    "# Regular function to add two numbers\n",
    "def add(x, y):\n",
    "    return x + y\n",
    "\n",
    "print(add(3, 5))  # Output: 8\n",
    "\n",
    "# Equivalent lambda function\n",
    "add_lambda = lambda x, y: x + y\n",
    "\n",
    "print(add_lambda(3, 5))  # Output: 8\n"
   ]
  },
  {
   "cell_type": "markdown",
   "id": "b5b57347",
   "metadata": {},
   "source": [
    "In this example, add_lambda is a lambda function that takes two arguments x and y and returns their sum. It's functionally equivalent to the add function defined using def, but it's more concise."
   ]
  },
  {
   "cell_type": "markdown",
   "id": "f8979b26",
   "metadata": {},
   "source": [
    "__Note__: While lambda functions are handy for simple operations, it's important to note that they can make code harder to read if overused or used for complex logic. In such cases, it's better to define a named function using def for clarity and maintainability."
   ]
  },
  {
   "cell_type": "code",
   "execution_count": 42,
   "id": "e3e74aab",
   "metadata": {},
   "outputs": [],
   "source": [
    "def random1(x):\n",
    "    return x + 10\n",
    "\n",
    "# A function that only contains a single statement which is a return value"
   ]
  },
  {
   "cell_type": "code",
   "execution_count": 43,
   "id": "88123c6b",
   "metadata": {},
   "outputs": [],
   "source": [
    "#same function using Lambda function\n",
    "\n",
    "random2 = lambda x : x + 10"
   ]
  },
  {
   "cell_type": "code",
   "execution_count": 44,
   "id": "6df7cc29",
   "metadata": {},
   "outputs": [],
   "source": [
    "hello = lambda : \"HELLO\" # Lambda function without arguments"
   ]
  },
  {
   "cell_type": "code",
   "execution_count": 46,
   "id": "be0131dd",
   "metadata": {},
   "outputs": [
    {
     "data": {
      "text/plain": [
       "15"
      ]
     },
     "execution_count": 46,
     "metadata": {},
     "output_type": "execute_result"
    }
   ],
   "source": [
    "sum_2 = lambda x, y : x + y # Multiple Arguments\n",
    "sum_2(10, 5)"
   ]
  },
  {
   "cell_type": "code",
   "execution_count": 48,
   "id": "82fc274d",
   "metadata": {},
   "outputs": [
    {
     "data": {
      "text/plain": [
       "2500.0"
      ]
     },
     "execution_count": 48,
     "metadata": {},
     "output_type": "execute_result"
    }
   ],
   "source": [
    "simple_interest = lambda p, r = 5, t = 10 : (p * r * t) / 100\n",
    "simple_interest(5000) #Lambda functions accepts positional and keyword arguments"
   ]
  },
  {
   "cell_type": "code",
   "execution_count": 49,
   "id": "c0bd641c",
   "metadata": {},
   "outputs": [],
   "source": [
    "# Lambda functions can be anonymous"
   ]
  },
  {
   "cell_type": "code",
   "execution_count": 50,
   "id": "8bec6097",
   "metadata": {},
   "outputs": [
    {
     "data": {
      "text/plain": [
       "15"
      ]
     },
     "execution_count": 50,
     "metadata": {},
     "output_type": "execute_result"
    }
   ],
   "source": [
    "(lambda x : x + 10)(5) # Anonymous - do not need a name to be called!"
   ]
  },
  {
   "cell_type": "markdown",
   "id": "3806ca68",
   "metadata": {},
   "source": [
    "# Docstrings"
   ]
  },
  {
   "cell_type": "markdown",
   "id": "eea9a251",
   "metadata": {},
   "source": [
    "Docstrings, short for \"documentation strings,\" are used in Python to provide documentation for modules, classes, functions, and methods. They are string literals enclosed in triple quotes (either single or double) that immediately follow the definition of a module, class, function, or method.\n",
    "\n",
    "Docstrings serve as a convenient way to document code, providing useful information about what the code does, how it works, and how it should be used. They are particularly important for understanding and maintaining code, as they can be accessed using Python's built-in documentation tools and IDE features.\n",
    "\n",
    "Here's an example of a function with a docstring:"
   ]
  },
  {
   "cell_type": "code",
   "execution_count": 52,
   "id": "d42eacd8",
   "metadata": {},
   "outputs": [],
   "source": [
    "def greet(name):\n",
    "    \"\"\"\n",
    "    This function greets the person with the provided name.\n",
    "\n",
    "    Parameters:\n",
    "        name (str): The name of the person to greet.\n",
    "\n",
    "    Returns:\n",
    "        str: A greeting message.\n",
    "    \"\"\"\n",
    "    return \"Hello, \" + name + \"!\"\n"
   ]
  },
  {
   "cell_type": "code",
   "execution_count": 53,
   "id": "d9940601",
   "metadata": {},
   "outputs": [
    {
     "data": {
      "text/plain": [
       "'Hello, Macs!'"
      ]
     },
     "execution_count": 53,
     "metadata": {},
     "output_type": "execute_result"
    }
   ],
   "source": [
    "greet(\"Macs\")"
   ]
  },
  {
   "cell_type": "code",
   "execution_count": 55,
   "id": "33281224",
   "metadata": {},
   "outputs": [
    {
     "name": "stdout",
     "output_type": "stream",
     "text": [
      "Help on function greet in module __main__:\n",
      "\n",
      "greet(name)\n",
      "    This function greets the person with the provided name.\n",
      "    \n",
      "    Parameters:\n",
      "        name (str): The name of the person to greet.\n",
      "    \n",
      "    Returns:\n",
      "        str: A greeting message.\n",
      "\n"
     ]
    }
   ],
   "source": [
    "help(greet) # Accessing the documentation of the greet function"
   ]
  },
  {
   "cell_type": "markdown",
   "id": "04391bbc",
   "metadata": {},
   "source": [
    "In this example, the docstring provides information about the purpose of the greet function, its parameters (name), and its return value. The docstring conventionally includes sections for Parameters, Returns, and sometimes Examples or Notes, but this structure is not strictly enforced.\n",
    "\n",
    "Docstrings can be accessed using the __help__ attribute. For example, help(greet) prints the docstring of the greet function."
   ]
  },
  {
   "cell_type": "markdown",
   "id": "28a45496",
   "metadata": {},
   "source": [
    "# Return Statement"
   ]
  },
  {
   "cell_type": "markdown",
   "id": "8b277745",
   "metadata": {},
   "source": [
    "In Python, the return statement is used to exit a function and return a value to its caller. It allows a function to send back a result to the code that called it, which can then be stored in a variable or used in some other way.\n",
    "\n",
    "Here's the basic syntax of the return statement:"
   ]
  },
  {
   "cell_type": "code",
   "execution_count": 56,
   "id": "94a6babe",
   "metadata": {},
   "outputs": [],
   "source": [
    "def my_function():\n",
    "    # Some code here\n",
    "    return value"
   ]
  },
  {
   "cell_type": "markdown",
   "id": "9c2a6984",
   "metadata": {},
   "source": [
    "value is the data that the function wants to send back to its caller. It can be of any data type: integer, float, string, list, tuple, dictionary, etc."
   ]
  },
  {
   "cell_type": "markdown",
   "id": "ccd3e99c",
   "metadata": {},
   "source": [
    "When a return statement is encountered in a function, the function immediately exits, and the program control returns to the point where the function was called. The value specified in the return statement is passed back to the caller.\n",
    "\n",
    "Here's an example demonstrating the usage of the return statement:"
   ]
  },
  {
   "cell_type": "code",
   "execution_count": 57,
   "id": "ba0c3d6e",
   "metadata": {},
   "outputs": [
    {
     "name": "stdout",
     "output_type": "stream",
     "text": [
      "The sum is: 8\n"
     ]
    }
   ],
   "source": [
    "def add(x, y):\n",
    "    \"\"\"\n",
    "    This function takes two numbers as input and returns their sum.\n",
    "    \"\"\"\n",
    "    result = x + y\n",
    "    return result\n",
    "\n",
    "# Call the function and store the result in a variable\n",
    "sum_result = add(3, 5)\n",
    "print(\"The sum is:\", sum_result)  # Output: The sum is: 8\n"
   ]
  },
  {
   "cell_type": "markdown",
   "id": "4d9259dc",
   "metadata": {},
   "source": [
    "In this example, the add function takes two numbers x and y as input, calculates their sum, and returns the result using the return statement. When the function is called with add(3, 5), the sum of 3 and 5 is calculated (8), and this value is returned to the caller and stored in the variable sum_result."
   ]
  },
  {
   "cell_type": "markdown",
   "id": "3fa845cb",
   "metadata": {},
   "source": [
    "__Note__: It's important to note that a function can have multiple return statements, but only one of them will be executed during the function's execution. Once a return statement is executed, the function exits, and any subsequent code in the function is not executed."
   ]
  },
  {
   "cell_type": "markdown",
   "id": "8a031809",
   "metadata": {},
   "source": [
    "# Print vs Return"
   ]
  },
  {
   "cell_type": "markdown",
   "id": "11832b34",
   "metadata": {},
   "source": [
    "In Python, print and return are both statements used to output information from a function, but they serve different purposes and behave differently:"
   ]
  },
  {
   "cell_type": "markdown",
   "id": "fac9f57f",
   "metadata": {},
   "source": [
    "__print__:\n",
    "\n",
    "The __print__ statement is used to display information on the console or standard output (stdout). It does not return any value to the caller.\n",
    "\n",
    "__print__ is primarily used for debugging purposes or for providing feedback to the user.\n",
    "\n",
    "It can be used inside functions to output intermediate results, but it does not affect the behavior of the function itself.\n",
    "print does not provide a way to capture or use the displayed information in subsequent code."
   ]
  },
  {
   "cell_type": "code",
   "execution_count": 59,
   "id": "1852b8e3",
   "metadata": {},
   "outputs": [
    {
     "name": "stdout",
     "output_type": "stream",
     "text": [
      "Hello, Alice!\n"
     ]
    }
   ],
   "source": [
    "def print_greeting(name):\n",
    "    print(\"Hello, \" + name + \"!\")\n",
    "\n",
    "print_greeting(\"Alice\")  # Output: Hello, Alice!\n",
    "#see the left side of the result. \"Out\" will not be mentioned when we use print as it is not an output. It is just displayed"
   ]
  },
  {
   "cell_type": "markdown",
   "id": "31b5b232",
   "metadata": {},
   "source": [
    "__return__:\n",
    "\n",
    "The __return__ statement is used to exit a function and return a value to its caller.\n",
    "\n",
    "When a function encounters a return statement, it immediately exits, and the control returns to the point where the function was called. The value specified in the return statement is passed back to the caller.\n",
    "\n",
    "__return__ is used to provide the result of a computation or operation performed by the function.\n",
    "\n",
    "The returned value can be stored in a variable, used in expressions, or passed as an argument to another function."
   ]
  },
  {
   "cell_type": "code",
   "execution_count": 64,
   "id": "a2394449",
   "metadata": {},
   "outputs": [
    {
     "data": {
      "text/plain": [
       "8"
      ]
     },
     "execution_count": 64,
     "metadata": {},
     "output_type": "execute_result"
    }
   ],
   "source": [
    "def add(x, y):\n",
    "    return x + y\n",
    "\n",
    "add(3, 5)\n",
    "#see the left side of the result. \"Out\" is mentioned which can be utilised in another variable or function"
   ]
  },
  {
   "cell_type": "code",
   "execution_count": null,
   "id": "3505769c",
   "metadata": {},
   "outputs": [],
   "source": []
  }
 ],
 "metadata": {
  "kernelspec": {
   "display_name": "Python 3 (ipykernel)",
   "language": "python",
   "name": "python3"
  },
  "language_info": {
   "codemirror_mode": {
    "name": "ipython",
    "version": 3
   },
   "file_extension": ".py",
   "mimetype": "text/x-python",
   "name": "python",
   "nbconvert_exporter": "python",
   "pygments_lexer": "ipython3",
   "version": "3.11.5"
  }
 },
 "nbformat": 4,
 "nbformat_minor": 5
}
