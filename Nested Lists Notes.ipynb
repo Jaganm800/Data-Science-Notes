{
 "cells": [
  {
   "cell_type": "markdown",
   "id": "3a544a2f",
   "metadata": {},
   "source": [
    "# Nested Lists\n",
    "\n",
    "a nested list is a list that appears as an element within another list. This means you can have a list that contains other lists as its elements. This can create a hierarchical structure where you have lists within lists, forming a kind of \"nesting\".\n",
    "\n",
    "Here's an example of a nested list:"
   ]
  },
  {
   "cell_type": "code",
   "execution_count": 1,
   "id": "b756d07c",
   "metadata": {},
   "outputs": [],
   "source": [
    "nested_list = [[1, 2, 3], [4, 5, 6], [7, 8, 9]]"
   ]
  },
  {
   "cell_type": "code",
   "execution_count": 2,
   "id": "12393e16",
   "metadata": {},
   "outputs": [
    {
     "data": {
      "text/plain": [
       "[[1, 2, 3], [4, 5, 6], [7, 8, 9]]"
      ]
     },
     "execution_count": 2,
     "metadata": {},
     "output_type": "execute_result"
    }
   ],
   "source": [
    "nested_list"
   ]
  },
  {
   "cell_type": "markdown",
   "id": "c166b051",
   "metadata": {},
   "source": [
    "In this example, nested_list contains three inner lists: [1, 2, 3], [4, 5, 6], and [7, 8, 9]. Each inner list represents a row in a matrix, for instance."
   ]
  },
  {
   "cell_type": "markdown",
   "id": "73311cdd",
   "metadata": {},
   "source": [
    "___Accessing elements in nested lists___\n",
    "\n",
    "Accessing elements in nested lists in Python involves using multiple indices to navigate through the layers of lists. Each index corresponds to a specific level of nesting within the list structure.\n",
    "\n",
    "Let's consider a simple example of a nested list:"
   ]
  },
  {
   "cell_type": "code",
   "execution_count": 3,
   "id": "72c94e2e",
   "metadata": {},
   "outputs": [],
   "source": [
    "nested_list = [[1, 2, 3], [4, 5, 6], [7, 8, 9]]"
   ]
  },
  {
   "cell_type": "markdown",
   "id": "28ad83c3",
   "metadata": {},
   "source": [
    "To access individual elements within this nested list, we use the index of the outer list followed by the index of the inner list.\n",
    "\n",
    "For example:"
   ]
  },
  {
   "cell_type": "code",
   "execution_count": 4,
   "id": "36ce48f1",
   "metadata": {},
   "outputs": [
    {
     "name": "stdout",
     "output_type": "stream",
     "text": [
      "1\n",
      "6\n",
      "8\n"
     ]
    }
   ],
   "source": [
    "print(nested_list[0][0])  # Output: 1\n",
    "print(nested_list[1][2])  # Output: 6\n",
    "print(nested_list[2][1])  # Output: 8"
   ]
  },
  {
   "cell_type": "markdown",
   "id": "1b713638",
   "metadata": {},
   "source": [
    "Here's what's happening:\n",
    "\n",
    "___nested_list[0][0]:___ This accesses the first element of the first inner list, which is 1.\n",
    "\n",
    "___nested_list[1][2]:___ This accesses the third element of the second inner list, which is 6.\n",
    "\n",
    "___nested_list[2][1]:___ This accesses the second element of the third inner list, which is 8.\n",
    "\n",
    "We can also use variables or expressions inside the indices to dynamically access elements:"
   ]
  },
  {
   "cell_type": "code",
   "execution_count": 5,
   "id": "77c069d4",
   "metadata": {},
   "outputs": [
    {
     "name": "stdout",
     "output_type": "stream",
     "text": [
      "6\n"
     ]
    }
   ],
   "source": [
    "row_index = 1\n",
    "col_index = 2\n",
    "print(nested_list[row_index][col_index])  # Output: 6"
   ]
  },
  {
   "cell_type": "markdown",
   "id": "854f1e31",
   "metadata": {},
   "source": [
    "It's important to ensure that the indices we use are within the bounds of the nested list to avoid IndexError. If we try to access an element using an index that is out of range, Python will raise an IndexError."
   ]
  },
  {
   "cell_type": "code",
   "execution_count": null,
   "id": "fcc92d6c",
   "metadata": {},
   "outputs": [],
   "source": []
  },
  {
   "cell_type": "code",
   "execution_count": 6,
   "id": "a254117a",
   "metadata": {},
   "outputs": [
    {
     "data": {
      "text/plain": [
       "'\\nQuestion 1 - \\nRotate a given list by 1 element.\\n\\nINPUT - [1,2,3,4,5]\\nOUTPUT - [5,1,2,3,4]\\n'"
      ]
     },
     "execution_count": 6,
     "metadata": {},
     "output_type": "execute_result"
    }
   ],
   "source": [
    "'''\n",
    "Question 1 - \n",
    "Rotate a given list by 1 element.\n",
    "\n",
    "INPUT - [1,2,3,4,5]\n",
    "OUTPUT - [5,1,2,3,4]\n",
    "'''"
   ]
  },
  {
   "cell_type": "code",
   "execution_count": 7,
   "id": "f8569505",
   "metadata": {},
   "outputs": [],
   "source": [
    "a = [1,2,3,4,5]"
   ]
  },
  {
   "cell_type": "code",
   "execution_count": 8,
   "id": "cac5499c",
   "metadata": {},
   "outputs": [],
   "source": [
    "result = [a[-1]]+a[:4] # APPROACH 1"
   ]
  },
  {
   "cell_type": "code",
   "execution_count": 9,
   "id": "0a2e6880",
   "metadata": {},
   "outputs": [
    {
     "data": {
      "text/plain": [
       "[5, 1, 2, 3, 4]"
      ]
     },
     "execution_count": 9,
     "metadata": {},
     "output_type": "execute_result"
    }
   ],
   "source": [
    "result"
   ]
  },
  {
   "cell_type": "code",
   "execution_count": 10,
   "id": "69e26829",
   "metadata": {},
   "outputs": [],
   "source": [
    "last_element = a.pop() # APPROACH 2\n",
    "a.insert(0, last_element)"
   ]
  },
  {
   "cell_type": "code",
   "execution_count": 11,
   "id": "4499a26c",
   "metadata": {},
   "outputs": [
    {
     "data": {
      "text/plain": [
       "[5, 1, 2, 3, 4]"
      ]
     },
     "execution_count": 11,
     "metadata": {},
     "output_type": "execute_result"
    }
   ],
   "source": [
    "a"
   ]
  },
  {
   "cell_type": "code",
   "execution_count": 12,
   "id": "5c9280f2",
   "metadata": {},
   "outputs": [],
   "source": [
    "a = [10,20,30,40,30,30,50,60,70,80,90,20,30,40,100,30]"
   ]
  },
  {
   "cell_type": "code",
   "execution_count": 13,
   "id": "83181c54",
   "metadata": {},
   "outputs": [
    {
     "data": {
      "text/plain": [
       "6"
      ]
     },
     "execution_count": 13,
     "metadata": {},
     "output_type": "execute_result"
    }
   ],
   "source": [
    "a.index(50) # Returns the index of a value within a list"
   ]
  },
  {
   "cell_type": "code",
   "execution_count": 14,
   "id": "6c297390",
   "metadata": {},
   "outputs": [
    {
     "ename": "ValueError",
     "evalue": "-10 is not in list",
     "output_type": "error",
     "traceback": [
      "\u001b[1;31m---------------------------------------------------------------------------\u001b[0m",
      "\u001b[1;31mValueError\u001b[0m                                Traceback (most recent call last)",
      "Cell \u001b[1;32mIn[14], line 1\u001b[0m\n\u001b[1;32m----> 1\u001b[0m a\u001b[38;5;241m.\u001b[39mindex(\u001b[38;5;241m-\u001b[39m\u001b[38;5;241m10\u001b[39m)\n",
      "\u001b[1;31mValueError\u001b[0m: -10 is not in list"
     ]
    }
   ],
   "source": [
    "a.index(-10)"
   ]
  },
  {
   "cell_type": "code",
   "execution_count": 15,
   "id": "a7f36ac7",
   "metadata": {},
   "outputs": [
    {
     "data": {
      "text/plain": [
       "2"
      ]
     },
     "execution_count": 15,
     "metadata": {},
     "output_type": "execute_result"
    }
   ],
   "source": [
    "a.index(30)"
   ]
  },
  {
   "cell_type": "code",
   "execution_count": 16,
   "id": "15bbfb73",
   "metadata": {},
   "outputs": [],
   "source": [
    "a = [[1,2,3],[4,5,6],[7,8,9],[10,11,12]]"
   ]
  },
  {
   "cell_type": "code",
   "execution_count": 17,
   "id": "adeb9a05",
   "metadata": {},
   "outputs": [
    {
     "data": {
      "text/plain": [
       "1"
      ]
     },
     "execution_count": 17,
     "metadata": {},
     "output_type": "execute_result"
    }
   ],
   "source": [
    "a[0][0] #accessing element at row -1 and column - 1"
   ]
  },
  {
   "cell_type": "code",
   "execution_count": 18,
   "id": "7c1f561a",
   "metadata": {},
   "outputs": [
    {
     "data": {
      "text/plain": [
       "[1, 2, 3]"
      ]
     },
     "execution_count": 18,
     "metadata": {},
     "output_type": "execute_result"
    }
   ],
   "source": [
    "a[0] #provides the elements in row-1"
   ]
  },
  {
   "cell_type": "code",
   "execution_count": 19,
   "id": "3f761bfb",
   "metadata": {},
   "outputs": [],
   "source": [
    "rows = len(a) #provides the number of rows in the 2D - list matrix"
   ]
  },
  {
   "cell_type": "code",
   "execution_count": 20,
   "id": "11ee5179",
   "metadata": {},
   "outputs": [
    {
     "data": {
      "text/plain": [
       "4"
      ]
     },
     "execution_count": 20,
     "metadata": {},
     "output_type": "execute_result"
    }
   ],
   "source": [
    "rows"
   ]
  },
  {
   "cell_type": "code",
   "execution_count": 21,
   "id": "25d9158a",
   "metadata": {},
   "outputs": [],
   "source": [
    "columns = len(a[0]) #provides the number of columns in the 2D - list matrix"
   ]
  },
  {
   "cell_type": "code",
   "execution_count": 22,
   "id": "51f1c13e",
   "metadata": {},
   "outputs": [
    {
     "data": {
      "text/plain": [
       "3"
      ]
     },
     "execution_count": 22,
     "metadata": {},
     "output_type": "execute_result"
    }
   ],
   "source": [
    "columns"
   ]
  },
  {
   "cell_type": "code",
   "execution_count": 23,
   "id": "7d951050",
   "metadata": {},
   "outputs": [
    {
     "name": "stdout",
     "output_type": "stream",
     "text": [
      "1 2 3 \n",
      "4 5 6 \n",
      "7 8 9 \n",
      "10 11 12 \n"
     ]
    }
   ],
   "source": [
    "\n",
    "# MATRIX ITERATION\n",
    "rows = len(a)\n",
    "columns = len(a[0])\n",
    "\n",
    "for i in range(rows):\n",
    "    for j in range(columns):\n",
    "        print(a[i][j], end = \" \")\n",
    "    \n",
    "    print()"
   ]
  },
  {
   "cell_type": "code",
   "execution_count": 25,
   "id": "18f7e129",
   "metadata": {},
   "outputs": [],
   "source": [
    "b = [[1,2,3],[4,5],[6,7,8,9,10]]"
   ]
  },
  {
   "cell_type": "code",
   "execution_count": 26,
   "id": "76809746",
   "metadata": {},
   "outputs": [
    {
     "name": "stdout",
     "output_type": "stream",
     "text": [
      "1 2 3 \n",
      "4 5 \n",
      "6 7 8 9 10 \n"
     ]
    }
   ],
   "source": [
    "# GENERAL 2D LIST ITERATION -> NOT A MATRIX\n",
    "\n",
    "for i in b:\n",
    "    for element in i:\n",
    "        print(element, end = \" \")\n",
    "        \n",
    "    print()"
   ]
  },
  {
   "cell_type": "code",
   "execution_count": 27,
   "id": "4f1dfd6b",
   "metadata": {},
   "outputs": [
    {
     "name": "stdout",
     "output_type": "stream",
     "text": [
      "1 2 3 \n",
      "4 5 6 \n",
      "7 8 9 \n",
      "10 11 12 \n"
     ]
    }
   ],
   "source": [
    "# THIS METHOD ALSO APPLIES TO MATRICES\n",
    "\n",
    "for i in a:\n",
    "    for element in i:\n",
    "        print(element, end = \" \")\n",
    "        \n",
    "    print()"
   ]
  },
  {
   "cell_type": "code",
   "execution_count": 29,
   "id": "d4a37890",
   "metadata": {},
   "outputs": [
    {
     "name": "stdout",
     "output_type": "stream",
     "text": [
      "1 2 3 \n",
      "4 5 "
     ]
    },
    {
     "ename": "IndexError",
     "evalue": "list index out of range",
     "output_type": "error",
     "traceback": [
      "\u001b[1;31m---------------------------------------------------------------------------\u001b[0m",
      "\u001b[1;31mIndexError\u001b[0m                                Traceback (most recent call last)",
      "Cell \u001b[1;32mIn[29], line 6\u001b[0m\n\u001b[0;32m      4\u001b[0m \u001b[38;5;28;01mfor\u001b[39;00m i \u001b[38;5;129;01min\u001b[39;00m \u001b[38;5;28mrange\u001b[39m(rows):\n\u001b[0;32m      5\u001b[0m     \u001b[38;5;28;01mfor\u001b[39;00m j \u001b[38;5;129;01min\u001b[39;00m \u001b[38;5;28mrange\u001b[39m(columns):\n\u001b[1;32m----> 6\u001b[0m         \u001b[38;5;28mprint\u001b[39m(b[i][j], end \u001b[38;5;241m=\u001b[39m \u001b[38;5;124m\"\u001b[39m\u001b[38;5;124m \u001b[39m\u001b[38;5;124m\"\u001b[39m)\n\u001b[0;32m      8\u001b[0m     \u001b[38;5;28mprint\u001b[39m()\n",
      "\u001b[1;31mIndexError\u001b[0m: list index out of range"
     ]
    }
   ],
   "source": [
    "rows = len(b)\n",
    "columns = len(b[0])\n",
    "\n",
    "for i in range(rows):\n",
    "    for j in range(columns):\n",
    "        print(b[i][j], end = \" \")\n",
    "    \n",
    "    print()\n",
    "\n",
    "#Since 2nd row has only two two elements"
   ]
  },
  {
   "cell_type": "code",
   "execution_count": 30,
   "id": "86c834bd",
   "metadata": {},
   "outputs": [
    {
     "data": {
      "text/plain": [
       "[[1, 2, 3], [4, 5, 6], [7, 8, 9], [10, 11, 12]]"
      ]
     },
     "execution_count": 30,
     "metadata": {},
     "output_type": "execute_result"
    }
   ],
   "source": [
    "a"
   ]
  },
  {
   "cell_type": "code",
   "execution_count": 31,
   "id": "972b5005",
   "metadata": {},
   "outputs": [],
   "source": [
    "def check_matrix(a):\n",
    "    is_matrix = True\n",
    "    \n",
    "    for i in range(len(a) - 1):\n",
    "        if len(a[i]) != len(a[i + 1]):\n",
    "            is_matrix = False\n",
    "            \n",
    "    return is_matrix"
   ]
  },
  {
   "cell_type": "code",
   "execution_count": 32,
   "id": "441723da",
   "metadata": {},
   "outputs": [
    {
     "data": {
      "text/plain": [
       "[[1, 2, 3], [4, 5, 6], [7, 8, 9], [10, 11, 12]]"
      ]
     },
     "execution_count": 32,
     "metadata": {},
     "output_type": "execute_result"
    }
   ],
   "source": [
    "a"
   ]
  },
  {
   "cell_type": "code",
   "execution_count": 33,
   "id": "61daae23",
   "metadata": {},
   "outputs": [
    {
     "data": {
      "text/plain": [
       "[[1, 2, 3], [4, 5], [6, 7, 8, 9, 10]]"
      ]
     },
     "execution_count": 33,
     "metadata": {},
     "output_type": "execute_result"
    }
   ],
   "source": [
    "b"
   ]
  },
  {
   "cell_type": "code",
   "execution_count": 34,
   "id": "1a42376f",
   "metadata": {},
   "outputs": [
    {
     "data": {
      "text/plain": [
       "True"
      ]
     },
     "execution_count": 34,
     "metadata": {},
     "output_type": "execute_result"
    }
   ],
   "source": [
    "check_matrix(a)"
   ]
  },
  {
   "cell_type": "code",
   "execution_count": 35,
   "id": "51f42806",
   "metadata": {},
   "outputs": [
    {
     "data": {
      "text/plain": [
       "False"
      ]
     },
     "execution_count": 35,
     "metadata": {},
     "output_type": "execute_result"
    }
   ],
   "source": [
    "check_matrix(b)"
   ]
  },
  {
   "cell_type": "code",
   "execution_count": 37,
   "id": "84db7f61",
   "metadata": {},
   "outputs": [],
   "source": [
    "#function for checking whether a list is a 2D list or not\n",
    "\n",
    "def check_matrix(a):\n",
    "    if type(a[0]) != list:\n",
    "        return \"NOT A 2D LIST!\"\n",
    "    \n",
    "    is_matrix = True\n",
    "    \n",
    "    for i in range(len(a) - 1):\n",
    "        if len(a[i]) != len(a[i + 1]):\n",
    "            is_matrix = False\n",
    "            \n",
    "    return is_matrix"
   ]
  },
  {
   "cell_type": "code",
   "execution_count": 38,
   "id": "2032e6c1",
   "metadata": {},
   "outputs": [
    {
     "data": {
      "text/plain": [
       "'NOT A 2D LIST!'"
      ]
     },
     "execution_count": 38,
     "metadata": {},
     "output_type": "execute_result"
    }
   ],
   "source": [
    "check_matrix([1,2,3,4])"
   ]
  },
  {
   "cell_type": "markdown",
   "id": "62137f07",
   "metadata": {},
   "source": [
    "# Taking a 1D list as an input"
   ]
  },
  {
   "cell_type": "code",
   "execution_count": 50,
   "id": "a8d1349e",
   "metadata": {},
   "outputs": [
    {
     "name": "stdout",
     "output_type": "stream",
     "text": [
      "Input - 1\n",
      "Input - 2\n",
      "Input - 3\n",
      "[1, 2, 3]\n"
     ]
    }
   ],
   "source": [
    "row = []\n",
    "\n",
    "for i in range(3):\n",
    "    row.append(int(input(\"Input - \")))\n",
    "print(row)"
   ]
  },
  {
   "cell_type": "markdown",
   "id": "9de4e934",
   "metadata": {},
   "source": [
    "# Taking a 2D list as an input"
   ]
  },
  {
   "cell_type": "code",
   "execution_count": 46,
   "id": "4d953e0c",
   "metadata": {},
   "outputs": [
    {
     "name": "stdout",
     "output_type": "stream",
     "text": [
      "1\n",
      "2\n",
      "3\n",
      "4\n",
      "5\n",
      "6\n",
      "7\n",
      "8\n",
      "9\n",
      "1\n",
      "2\n",
      "3\n",
      "[[1, 2, 3], [4, 5, 6], [7, 8, 9], [1, 2, 3]]\n"
     ]
    }
   ],
   "source": [
    "Matrix = []\n",
    "\n",
    "for i in range(4):\n",
    "    row = []\n",
    "    \n",
    "    for j in range(3):\n",
    "        row.append(int(input()))\n",
    "    Matrix.append(row)\n",
    "print(Matrix)"
   ]
  },
  {
   "cell_type": "markdown",
   "id": "0a11b12c",
   "metadata": {},
   "source": [
    "___Defining a fuction to take matrix as an input___"
   ]
  },
  {
   "cell_type": "code",
   "execution_count": 56,
   "id": "5248e1bc",
   "metadata": {},
   "outputs": [],
   "source": [
    "def generate_matrix(rows,columns):\n",
    "    matrix = []\n",
    "    \n",
    "    for i in range(rows):\n",
    "        row = []\n",
    "        \n",
    "        for j in range(columns):\n",
    "            message = \"Enter the element at \" + str(i) + \", \" + str(j) + \": \"\n",
    "            row.append(int(input(message)))\n",
    "        \n",
    "        matrix.append(row)\n",
    "        \n",
    "    return matrix"
   ]
  },
  {
   "cell_type": "code",
   "execution_count": 57,
   "id": "480a14d2",
   "metadata": {},
   "outputs": [
    {
     "name": "stdout",
     "output_type": "stream",
     "text": [
      "Enter the element at 0, 0: 1\n",
      "Enter the element at 0, 1: 2\n",
      "Enter the element at 1, 0: 1\n",
      "Enter the element at 1, 1: 1\n"
     ]
    },
    {
     "data": {
      "text/plain": [
       "[[1, 2], [1, 1]]"
      ]
     },
     "execution_count": 57,
     "metadata": {},
     "output_type": "execute_result"
    }
   ],
   "source": [
    "generate_matrix(2,2)"
   ]
  },
  {
   "cell_type": "markdown",
   "id": "f021b2b2",
   "metadata": {},
   "source": [
    "# Question on taking list as input"
   ]
  },
  {
   "cell_type": "code",
   "execution_count": 58,
   "id": "44e22041",
   "metadata": {},
   "outputs": [
    {
     "data": {
      "text/plain": [
       "'\\nQuestion 3 - \\nTake a 3X3 matrix as an input from the user.\\nGiven this matrix.\\n1. Calculate the sum of all the elements in the matrix\\n2. Calculate the sum of each row\\n3. Calculate the sum of each column\\n'"
      ]
     },
     "execution_count": 58,
     "metadata": {},
     "output_type": "execute_result"
    }
   ],
   "source": [
    "'''\n",
    "Question 3 - \n",
    "Take a 3X3 matrix as an input from the user.\n",
    "Given this matrix.\n",
    "1. Calculate the sum of all the elements in the matrix\n",
    "2. Calculate the sum of each row\n",
    "3. Calculate the sum of each column\n",
    "'''"
   ]
  },
  {
   "cell_type": "code",
   "execution_count": 60,
   "id": "67532564",
   "metadata": {},
   "outputs": [
    {
     "name": "stdout",
     "output_type": "stream",
     "text": [
      "Enter the element at 0, 0: 1\n",
      "Enter the element at 0, 1: 2\n",
      "Enter the element at 0, 2: 3\n",
      "Enter the element at 1, 0: 4\n",
      "Enter the element at 1, 1: 5\n",
      "Enter the element at 1, 2: 6\n",
      "Enter the element at 2, 0: 7\n",
      "Enter the element at 2, 1: 8\n",
      "Enter the element at 2, 2: 9\n"
     ]
    }
   ],
   "source": [
    "matrix_1 = generate_matrix(3,3)"
   ]
  },
  {
   "cell_type": "code",
   "execution_count": 61,
   "id": "366e063f",
   "metadata": {},
   "outputs": [
    {
     "data": {
      "text/plain": [
       "[[1, 2, 3], [4, 5, 6], [7, 8, 9]]"
      ]
     },
     "execution_count": 61,
     "metadata": {},
     "output_type": "execute_result"
    }
   ],
   "source": [
    "matrix_1"
   ]
  },
  {
   "cell_type": "code",
   "execution_count": 69,
   "id": "65b8dd34",
   "metadata": {},
   "outputs": [],
   "source": [
    "#Question - 1: Sum of all elements\n",
    "\n",
    "sum_of_all_elements = 0\n",
    "\n",
    "for i in matrix_1:\n",
    "    for j in i:\n",
    "        sum_of_all_elements += j\n",
    "    "
   ]
  },
  {
   "cell_type": "code",
   "execution_count": 70,
   "id": "d2cda9bd",
   "metadata": {},
   "outputs": [
    {
     "data": {
      "text/plain": [
       "45"
      ]
     },
     "execution_count": 70,
     "metadata": {},
     "output_type": "execute_result"
    }
   ],
   "source": [
    "sum_of_all_elements"
   ]
  },
  {
   "cell_type": "code",
   "execution_count": 71,
   "id": "06dcd119",
   "metadata": {},
   "outputs": [
    {
     "name": "stdout",
     "output_type": "stream",
     "text": [
      "6\n",
      "15\n",
      "24\n"
     ]
    }
   ],
   "source": [
    "#Question - 2: Calculate sum of each row\n",
    "for i in matrix_1:\n",
    "    sum_of_row = 0\n",
    "    \n",
    "    for j in i:\n",
    "        sum_of_row += j\n",
    "    print(sum_of_row)"
   ]
  },
  {
   "cell_type": "code",
   "execution_count": 80,
   "id": "f7687db0",
   "metadata": {},
   "outputs": [],
   "source": [
    "#3. Calculate the sum of each column\n",
    "\n",
    "def sum_each_column(matrix):\n",
    "    rows = len(matrix)\n",
    "    columns = len(matrix[0])\n",
    "    \n",
    "    for j in range(columns):\n",
    "        print(\"Going over column\", j, \"-\")\n",
    "        sum_column = 0\n",
    "        \n",
    "        for i in range(rows):\n",
    "            print(\"\\tAdding element at index\", i, j, \"which is\", matrix[i][j])\n",
    "            sum_column += matrix[i][j]\n",
    "        \n",
    "        print(\"Sum of column\", j, \"=\", sum_column)\n",
    "        print(\"-\"*25)"
   ]
  },
  {
   "cell_type": "code",
   "execution_count": 82,
   "id": "c83e0aa6",
   "metadata": {},
   "outputs": [
    {
     "data": {
      "text/plain": [
       "[[1, 2, 3], [4, 5, 6], [7, 8, 9]]"
      ]
     },
     "execution_count": 82,
     "metadata": {},
     "output_type": "execute_result"
    }
   ],
   "source": [
    "matrix_1"
   ]
  },
  {
   "cell_type": "code",
   "execution_count": 83,
   "id": "9177bd8d",
   "metadata": {},
   "outputs": [
    {
     "name": "stdout",
     "output_type": "stream",
     "text": [
      "Going over column 0 -\n",
      "\tAdding element at index 0 0 which is 1\n",
      "\tAdding element at index 1 0 which is 4\n",
      "\tAdding element at index 2 0 which is 7\n",
      "Sum of column 0 = 12\n",
      "-------------------------\n",
      "Going over column 1 -\n",
      "\tAdding element at index 0 1 which is 2\n",
      "\tAdding element at index 1 1 which is 5\n",
      "\tAdding element at index 2 1 which is 8\n",
      "Sum of column 1 = 15\n",
      "-------------------------\n",
      "Going over column 2 -\n",
      "\tAdding element at index 0 2 which is 3\n",
      "\tAdding element at index 1 2 which is 6\n",
      "\tAdding element at index 2 2 which is 9\n",
      "Sum of column 2 = 18\n",
      "-------------------------\n"
     ]
    }
   ],
   "source": [
    "sum_each_column(matrix_1)"
   ]
  },
  {
   "cell_type": "code",
   "execution_count": null,
   "id": "bb530755",
   "metadata": {},
   "outputs": [],
   "source": []
  },
  {
   "cell_type": "markdown",
   "id": "0ef82f9b",
   "metadata": {},
   "source": [
    "# List Comprehensions"
   ]
  },
  {
   "cell_type": "markdown",
   "id": "7db01450",
   "metadata": {},
   "source": [
    "List comprehensions in Python provide a concise and readable way to create lists. They allow us to generate a new list by applying an expression to each item in an existing iterable, such as a list, tuple, or range.\n",
    "\n",
    "The basic syntax of a list comprehension is:"
   ]
  },
  {
   "cell_type": "markdown",
   "id": "4fee418f",
   "metadata": {},
   "source": [
    "[expression ___for___ item ___in___ iterable]"
   ]
  },
  {
   "cell_type": "markdown",
   "id": "b5feb87f",
   "metadata": {},
   "source": [
    "Here's a breakdown of how it works:\n",
    "\n",
    "___expression:___ This is the operation or calculation you want to perform on each item in the iterable.\n",
    "\n",
    "___item:___ This is a variable that represents each individual element in the iterable.\n",
    "\n",
    "___iterable:___ This is the existing iterable object that you want to loop over.\n",
    "\n",
    "For example, let's say you have a list of numbers and you want to create a new list that contains the square of each number:"
   ]
  },
  {
   "cell_type": "code",
   "execution_count": 74,
   "id": "d3c06164",
   "metadata": {},
   "outputs": [
    {
     "name": "stdout",
     "output_type": "stream",
     "text": [
      "[1, 4, 9, 16, 25]\n"
     ]
    }
   ],
   "source": [
    "numbers = [1, 2, 3, 4, 5]\n",
    "squares = [x**2 for x in numbers]\n",
    "print(squares)  # Output: [1, 4, 9, 16, 25]"
   ]
  },
  {
   "cell_type": "markdown",
   "id": "5eed76f7",
   "metadata": {},
   "source": [
    "In this example, the expression x**2 is applied to each item x in the numbers list, and the resulting squares are collected into a new list called squares.\n",
    "\n",
    "List comprehensions can also include conditional statements to filter the elements of the original iterable. The syntax for this is:\n",
    "\n",
    "[expression ___for___ item ___in___ iterable ___if___ condition]"
   ]
  },
  {
   "cell_type": "code",
   "execution_count": 75,
   "id": "981dc385",
   "metadata": {},
   "outputs": [
    {
     "name": "stdout",
     "output_type": "stream",
     "text": [
      "[2, 4]\n"
     ]
    }
   ],
   "source": [
    "numbers = [1, 2, 3, 4, 5]\n",
    "even_numbers = [x for x in numbers if x % 2 == 0]\n",
    "print(even_numbers)  # Output: [2, 4]"
   ]
  },
  {
   "cell_type": "markdown",
   "id": "10ba4f87",
   "metadata": {},
   "source": [
    "Here, the condition if x % 2 == 0 filters out the odd numbers from the numbers list, and only the even numbers are included in the even_numbers list.\n",
    "\n",
    "List comprehensions are a powerful feature in Python that can help you write more concise and readable code, especially when dealing with transformations and filtering of data in lists."
   ]
  },
  {
   "cell_type": "markdown",
   "id": "7cb5496f",
   "metadata": {},
   "source": [
    "# Example"
   ]
  },
  {
   "cell_type": "code",
   "execution_count": 76,
   "id": "3b9d47ab",
   "metadata": {},
   "outputs": [],
   "source": [
    "#Creating a list consisting of mulitiplication of 1 to 10\n",
    "\n",
    "table = []\n",
    "\n",
    "for i in range(1, 11):\n",
    "    row = []\n",
    "    \n",
    "    for j in range(1, 11):\n",
    "        row.append(i*j)\n",
    "        \n",
    "    table.append(row)"
   ]
  },
  {
   "cell_type": "code",
   "execution_count": 77,
   "id": "3a204ae4",
   "metadata": {},
   "outputs": [
    {
     "data": {
      "text/plain": [
       "[[1, 2, 3, 4, 5, 6, 7, 8, 9, 10],\n",
       " [2, 4, 6, 8, 10, 12, 14, 16, 18, 20],\n",
       " [3, 6, 9, 12, 15, 18, 21, 24, 27, 30],\n",
       " [4, 8, 12, 16, 20, 24, 28, 32, 36, 40],\n",
       " [5, 10, 15, 20, 25, 30, 35, 40, 45, 50],\n",
       " [6, 12, 18, 24, 30, 36, 42, 48, 54, 60],\n",
       " [7, 14, 21, 28, 35, 42, 49, 56, 63, 70],\n",
       " [8, 16, 24, 32, 40, 48, 56, 64, 72, 80],\n",
       " [9, 18, 27, 36, 45, 54, 63, 72, 81, 90],\n",
       " [10, 20, 30, 40, 50, 60, 70, 80, 90, 100]]"
      ]
     },
     "execution_count": 77,
     "metadata": {},
     "output_type": "execute_result"
    }
   ],
   "source": [
    "table"
   ]
  },
  {
   "cell_type": "code",
   "execution_count": 78,
   "id": "0873eb0f",
   "metadata": {},
   "outputs": [],
   "source": [
    "#Using list comprehensions\n",
    "t = [ [ i*j for j in range(1,11) ] for i in range(1,11) ]"
   ]
  },
  {
   "cell_type": "code",
   "execution_count": 79,
   "id": "7ef77d1e",
   "metadata": {},
   "outputs": [
    {
     "data": {
      "text/plain": [
       "[[1, 2, 3, 4, 5, 6, 7, 8, 9, 10],\n",
       " [2, 4, 6, 8, 10, 12, 14, 16, 18, 20],\n",
       " [3, 6, 9, 12, 15, 18, 21, 24, 27, 30],\n",
       " [4, 8, 12, 16, 20, 24, 28, 32, 36, 40],\n",
       " [5, 10, 15, 20, 25, 30, 35, 40, 45, 50],\n",
       " [6, 12, 18, 24, 30, 36, 42, 48, 54, 60],\n",
       " [7, 14, 21, 28, 35, 42, 49, 56, 63, 70],\n",
       " [8, 16, 24, 32, 40, 48, 56, 64, 72, 80],\n",
       " [9, 18, 27, 36, 45, 54, 63, 72, 81, 90],\n",
       " [10, 20, 30, 40, 50, 60, 70, 80, 90, 100]]"
      ]
     },
     "execution_count": 79,
     "metadata": {},
     "output_type": "execute_result"
    }
   ],
   "source": [
    "t"
   ]
  },
  {
   "cell_type": "code",
   "execution_count": null,
   "id": "1368fe13",
   "metadata": {},
   "outputs": [],
   "source": []
  }
 ],
 "metadata": {
  "kernelspec": {
   "display_name": "Python 3 (ipykernel)",
   "language": "python",
   "name": "python3"
  },
  "language_info": {
   "codemirror_mode": {
    "name": "ipython",
    "version": 3
   },
   "file_extension": ".py",
   "mimetype": "text/x-python",
   "name": "python",
   "nbconvert_exporter": "python",
   "pygments_lexer": "ipython3",
   "version": "3.11.5"
  }
 },
 "nbformat": 4,
 "nbformat_minor": 5
}
