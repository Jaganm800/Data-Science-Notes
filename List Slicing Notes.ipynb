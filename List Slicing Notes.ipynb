{
 "cells": [
  {
   "cell_type": "markdown",
   "id": "8eb1b7a6",
   "metadata": {},
   "source": [
    "# List Slicing"
   ]
  },
  {
   "cell_type": "markdown",
   "id": "4a803f64",
   "metadata": {},
   "source": [
    "___Accessing an element from a list:___\n",
    "\n",
    "In Python, we can access elements from a list using their index. Lists in Python are zero-indexed, meaning the index of the first element is 0, the second element is 1, and so on.\n",
    "\n",
    "\n",
    "Here's how you can access elements from a list:"
   ]
  },
  {
   "cell_type": "code",
   "execution_count": 2,
   "id": "a6d3dcca",
   "metadata": {},
   "outputs": [
    {
     "name": "stdout",
     "output_type": "stream",
     "text": [
      "First element: apple\n",
      "Second element: banana\n",
      "Third element: orange\n",
      "Last element: grape\n",
      "Second last element: orange\n"
     ]
    }
   ],
   "source": [
    "# Define a list\n",
    "my_list = ['apple', 'banana', 'orange', 'grape']\n",
    "\n",
    "# Accessing elements using positive index\n",
    "first_element = my_list[0]  # Access the first element\n",
    "second_element = my_list[1]  # Access the second element\n",
    "third_element = my_list[2]  # Access the third element\n",
    "\n",
    "print(\"First element:\", first_element)\n",
    "print(\"Second element:\", second_element)\n",
    "print(\"Third element:\", third_element)\n",
    "\n",
    "# Accessing elements using negative index (counting from the end)\n",
    "last_element = my_list[-1]  # Access the last element\n",
    "second_last_element = my_list[-2]  # Access the second last element\n",
    "\n",
    "print(\"Last element:\", last_element)\n",
    "print(\"Second last element:\", second_last_element)\n"
   ]
  },
  {
   "cell_type": "markdown",
   "id": "a9f4f5d9",
   "metadata": {},
   "source": [
    "Remember to ensure that the index you're using is within the bounds of the list; otherwise, you'll get an \"IndexError\" indicating that the index is out of range."
   ]
  },
  {
   "cell_type": "markdown",
   "id": "0c38630c",
   "metadata": {},
   "source": []
  },
  {
   "cell_type": "markdown",
   "id": "84e97c8e",
   "metadata": {},
   "source": [
    "___Accessing a range of elements from a list:___ We use List Slicing for the same"
   ]
  },
  {
   "cell_type": "markdown",
   "id": "c02ee57c",
   "metadata": {},
   "source": [
    "___What is list slicing?___: List slicing is a technique in Python used to extract a portion (or slice) of elements from a list based on specified indices. It allows you to create a new list containing elements from the original list within a specified range of indices.\n",
    "\n",
    "The general syntax for list slicing is:"
   ]
  },
  {
   "cell_type": "markdown",
   "id": "e100477d",
   "metadata": {},
   "source": [
    "___new_list = original_list[start_index : end_index : step]___\n",
    "\n",
    "#same as range but representation changes"
   ]
  },
  {
   "cell_type": "markdown",
   "id": "8b3eb227",
   "metadata": {},
   "source": [
    "Where:\n",
    "\n",
    "___start_index:___ The index from which to start the slice (inclusive). If omitted, it defaults to 0, indicating the beginning of the list.\n",
    "\n",
    "___end_index:___ The index up to which the slice will go (exclusive). If omitted, it defaults to the end of the list, meaning all elements up to the end will be included.\n",
    "\n",
    "___step:___ Optional parameter indicating the increment between the elements to be included in the slice. If omitted, it defaults to 1, meaning every consecutive element is included. Negative values for step indicate slicing in reverse.\n",
    "\n",
    "___Key points about list slicing:___\n",
    "\n",
    "1. List slicing creates a new list containing elements from the original list, leaving the original list unchanged.\n",
    "\n",
    "2. Slicing with start_index:end_index includes elements from start_index up to end_index - 1.\n",
    "\n",
    "3. If start_index is greater than or equal to end_index, an empty list is returned.\n",
    "\n",
    "4. Negative indices can be used for slicing, with -1 representing the last element, -2 representing the second last element, and so on.\n",
    "\n",
    "5. You can specify a step value to skip elements while slicing. This allows for creating slices of alternate elements or reversing the order of elements in the slice.\n",
    "\n",
    "6. Slicing is a powerful feature in Python that offers flexibility in working with lists efficiently and conveniently."
   ]
  },
  {
   "cell_type": "markdown",
   "id": "6e49874d",
   "metadata": {},
   "source": []
  },
  {
   "cell_type": "markdown",
   "id": "0c706bf9",
   "metadata": {},
   "source": [
    "You can access a range of elements from a list in Python using slicing. Slicing allows you to create a new list containing a subset of elements from the original list.\n",
    "\n",
    "Here's how you can access a range of elements from a list:"
   ]
  },
  {
   "cell_type": "code",
   "execution_count": 3,
   "id": "208dea07",
   "metadata": {},
   "outputs": [
    {
     "name": "stdout",
     "output_type": "stream",
     "text": [
      "Slice of list: ['banana', 'orange', 'grape']\n",
      "Slice from start: ['apple', 'banana', 'orange']\n",
      "Slice to end: ['orange', 'grape', 'kiwi', 'mango']\n",
      "Slice with negative indices: ['orange', 'grape', 'kiwi']\n",
      "Alternate elements: ['apple', 'orange', 'kiwi']\n"
     ]
    }
   ],
   "source": [
    "# Define a list\n",
    "my_list = ['apple', 'banana', 'orange', 'grape', 'kiwi', 'mango']\n",
    "\n",
    "# Accessing a range of elements using slicing\n",
    "# Syntax: list[start_index:end_index]\n",
    "# Note: end_index is exclusive, so the element at end_index will not be included\n",
    "slice_of_list = my_list[1:4]  # Access elements from index 1 to index 3\n",
    "\n",
    "print(\"Slice of list:\", slice_of_list)\n",
    "\n",
    "# If start_index is omitted, it defaults to 0\n",
    "slice_from_start = my_list[:3]  # Access elements from the beginning up to index 2\n",
    "print(\"Slice from start:\", slice_from_start)\n",
    "\n",
    "# If end_index is omitted, it defaults to the end of the list\n",
    "slice_to_end = my_list[2:]  # Access elements from index 2 to the end of the list\n",
    "print(\"Slice to end:\", slice_to_end)\n",
    "\n",
    "# Negative indices can also be used\n",
    "slice_with_negative_indices = my_list[-4:-1]  # Access elements from the fourth last to the second last\n",
    "print(\"Slice with negative indices:\", slice_with_negative_indices)\n",
    "\n",
    "# Slicing with a step\n",
    "# Syntax: list[start_index:end_index:step]\n",
    "alternate_elements = my_list[::2]  # Access every second element\n",
    "print(\"Alternate elements:\", alternate_elements)"
   ]
  },
  {
   "cell_type": "markdown",
   "id": "8cce4470",
   "metadata": {},
   "source": [
    "# Default Values\n",
    "\n",
    "1. When jump / step size is positive:\n",
    "    \n",
    "    start = ___0___\n",
    "    \n",
    "    end = ___len(list)___\n",
    "\n",
    "2. When jump / step size is negative:\n",
    "    \n",
    "    start = ___-1___\n",
    "    \n",
    "    end = ___-len(list) - 1___ (#because ___-len(list)___ is not considered)"
   ]
  },
  {
   "cell_type": "code",
   "execution_count": 4,
   "id": "67b2dc44",
   "metadata": {},
   "outputs": [
    {
     "data": {
      "text/plain": [
       "'\\nQuestion 1 -\\nGiven a list of all runs,\\nprint runs made in odd numbered (position) matches.\\n'"
      ]
     },
     "execution_count": 4,
     "metadata": {},
     "output_type": "execute_result"
    }
   ],
   "source": [
    "'''\n",
    "Question 1 -\n",
    "Given a list of all runs,\n",
    "print runs made in odd numbered (position) matches.\n",
    "'''"
   ]
  },
  {
   "cell_type": "code",
   "execution_count": 5,
   "id": "d8109ba3",
   "metadata": {},
   "outputs": [],
   "source": [
    "runs = [62, 85, 77, 10, 101, 122, 99, 81, 15, 36]"
   ]
  },
  {
   "cell_type": "code",
   "execution_count": 7,
   "id": "c2e044bc",
   "metadata": {},
   "outputs": [],
   "source": [
    "odd_matches = runs[:len(runs)+1:2]"
   ]
  },
  {
   "cell_type": "code",
   "execution_count": 8,
   "id": "71187988",
   "metadata": {},
   "outputs": [
    {
     "data": {
      "text/plain": [
       "[62, 77, 101, 99, 15]"
      ]
     },
     "execution_count": 8,
     "metadata": {},
     "output_type": "execute_result"
    }
   ],
   "source": [
    "odd_matches #scores scored in odd number matches"
   ]
  },
  {
   "cell_type": "code",
   "execution_count": 9,
   "id": "c5bc0df3",
   "metadata": {},
   "outputs": [
    {
     "data": {
      "text/plain": [
       "'\\nQuestion 2 -\\nGiven a list of all runs, \\nmake a new list of runs made in the last 5 matches.\\n'"
      ]
     },
     "execution_count": 9,
     "metadata": {},
     "output_type": "execute_result"
    }
   ],
   "source": [
    "'''\n",
    "Question 2 -\n",
    "Given a list of all runs, \n",
    "make a new list of runs made in the last 5 matches.\n",
    "'''"
   ]
  },
  {
   "cell_type": "code",
   "execution_count": 14,
   "id": "487956c4",
   "metadata": {},
   "outputs": [],
   "source": [
    "last_5_matches = runs[:-6:-1] #In negative indexing default value for start is -1"
   ]
  },
  {
   "cell_type": "code",
   "execution_count": 11,
   "id": "748d582e",
   "metadata": {},
   "outputs": [
    {
     "data": {
      "text/plain": [
       "[36, 15, 81, 99, 122]"
      ]
     },
     "execution_count": 11,
     "metadata": {},
     "output_type": "execute_result"
    }
   ],
   "source": [
    "last_5_matches #incorrect due to change in order"
   ]
  },
  {
   "cell_type": "code",
   "execution_count": 15,
   "id": "0b857c39",
   "metadata": {},
   "outputs": [],
   "source": [
    "#correct answer\n",
    "\n",
    "last_5_matches = runs[len(runs)-5:len(runs)]"
   ]
  },
  {
   "cell_type": "code",
   "execution_count": 16,
   "id": "9f0acfab",
   "metadata": {},
   "outputs": [
    {
     "data": {
      "text/plain": [
       "[122, 99, 81, 15, 36]"
      ]
     },
     "execution_count": 16,
     "metadata": {},
     "output_type": "execute_result"
    }
   ],
   "source": [
    "last_5_matches #correct order"
   ]
  },
  {
   "cell_type": "markdown",
   "id": "ccf4f2e3",
   "metadata": {},
   "source": [
    "# Postive Jump vs Negative Jump"
   ]
  },
  {
   "cell_type": "markdown",
   "id": "f46d82f7",
   "metadata": {},
   "source": [
    "Positive jump and negative jump in list slicing refer to the direction in which elements are selected from the original list when using a step parameter in slicing.\n",
    "\n",
    "___Positive Jump:___\n",
    "\n",
    "==> When you specify a positive value for the step parameter, elements are selected from the list in the forward direction, starting from the start_index and moving towards the end_index.\n",
    "\n",
    "==> Positive jump means you're moving forward in the list, selecting elements according to the specified step.\n",
    "\n",
    "==> For example, list[start_index:end_index:step] with a positive step value selects elements from start_index, start_index + step, start_index + 2 * step, and so on, until reaching or exceeding end_index.\n",
    "\n",
    "\n",
    "___Negative Jump:___\n",
    "\n",
    "==> When you specify a negative value for the step parameter, elements are selected from the list in the reverse direction, starting from the start_index and moving towards the end_index.\n",
    "\n",
    "==> Negative jump means you're moving backward in the list, selecting elements according to the specified step.\n",
    "\n",
    "==> For example, list[start_index:end_index:step] with a negative step value selects elements from start_index, start_index - step, start_index - 2 * step, and so on, until reaching or exceeding end_index.\n",
    "\n",
    "==> It's important to note that when using negative jump, start_index should be greater than end_index. If you reverse the order of start_index and end_index, you need to reverse the sign of the step as well.\n",
    "\n",
    "Here's a practical example to illustrate both positive and negative jumps:"
   ]
  },
  {
   "cell_type": "code",
   "execution_count": 17,
   "id": "a03fe588",
   "metadata": {},
   "outputs": [
    {
     "name": "stdout",
     "output_type": "stream",
     "text": [
      "Positive jump slice: [1, 3, 5, 7, 9]\n",
      "Negative jump slice: [10, 8, 6, 4, 2]\n"
     ]
    }
   ],
   "source": [
    "my_list = [1, 2, 3, 4, 5, 6, 7, 8, 9, 10]\n",
    "\n",
    "# Positive jump: selecting every second element\n",
    "positive_jump_slice = my_list[::2]  # [1, 3, 5, 7, 9]\n",
    "\n",
    "# Negative jump: selecting every second element in reverse order\n",
    "negative_jump_slice = my_list[::-2]  # [10, 8, 6, 4, 2]\n",
    "\n",
    "print(\"Positive jump slice:\", positive_jump_slice)\n",
    "print(\"Negative jump slice:\", negative_jump_slice)"
   ]
  },
  {
   "cell_type": "markdown",
   "id": "62f188f4",
   "metadata": {},
   "source": [
    "In the positive jump slice, we select every second element starting from the beginning of the list. In the negative jump slice, we select every second element starting from the end of the list and moving towards the beginning in reverse order."
   ]
  },
  {
   "attachments": {
    "image.png": {
     "image/png": "[encoded data removed]"
    }
   },
   "cell_type": "markdown",
   "id": "97b8b12a",
   "metadata": {},
   "source": [
    "![image.png](attachment:image.png)"
   ]
  },
  {
   "cell_type": "markdown",
   "id": "bc366ffc",
   "metadata": {},
   "source": [
    "Basically, the jump indicates the movement of jump / direction of the jump\n",
    "\n",
    "==> A positive jump moves from left to right in the number line\n",
    "==> A negative jump moves from right to left in the number line\n",
    "\n",
    "___Mixed Indexing___"
   ]
  },
  {
   "cell_type": "code",
   "execution_count": 18,
   "id": "f994ebe6",
   "metadata": {},
   "outputs": [],
   "source": [
    "a = [10, 20, 30, 40, 50, 60, 70, 80]"
   ]
  },
  {
   "cell_type": "markdown",
   "id": "c00e64fe",
   "metadata": {},
   "source": [
    "___Applies only to List Slicing and not applicable to range function___\n",
    "\n",
    "==> a[0:5] is same as a[0:-3]\n",
    "\n",
    "==> a[-8:-3] is same as a[-8:5]"
   ]
  },
  {
   "cell_type": "code",
   "execution_count": 20,
   "id": "ed2f70bc",
   "metadata": {},
   "outputs": [
    {
     "data": {
      "text/plain": [
       "[10, 20, 30, 40, 50]"
      ]
     },
     "execution_count": 20,
     "metadata": {},
     "output_type": "execute_result"
    }
   ],
   "source": [
    "a[0:5]"
   ]
  },
  {
   "cell_type": "code",
   "execution_count": 21,
   "id": "ed76125d",
   "metadata": {},
   "outputs": [
    {
     "data": {
      "text/plain": [
       "[10, 20, 30, 40, 50]"
      ]
     },
     "execution_count": 21,
     "metadata": {},
     "output_type": "execute_result"
    }
   ],
   "source": [
    "a[0:-3]"
   ]
  },
  {
   "cell_type": "code",
   "execution_count": 22,
   "id": "a766122a",
   "metadata": {},
   "outputs": [
    {
     "data": {
      "text/plain": [
       "[10, 20, 30, 40, 50]"
      ]
     },
     "execution_count": 22,
     "metadata": {},
     "output_type": "execute_result"
    }
   ],
   "source": [
    "a[-8:-3]"
   ]
  },
  {
   "cell_type": "code",
   "execution_count": 23,
   "id": "56bc51fc",
   "metadata": {},
   "outputs": [
    {
     "data": {
      "text/plain": [
       "[10, 20, 30, 40, 50]"
      ]
     },
     "execution_count": 23,
     "metadata": {},
     "output_type": "execute_result"
    }
   ],
   "source": [
    "a[-8:5]"
   ]
  },
  {
   "cell_type": "markdown",
   "id": "8c62613c",
   "metadata": {},
   "source": [
    "___Important points___\n",
    "\n",
    "==> Default of jump is always +1 (positive one)\n",
    "\n",
    "==> Index refers to the poisiton in the list\n",
    "\n",
    "==> Postive / negative refers to the direction of the step size / jump\n",
    "\n",
    "==> In slicing / range, no calculation take place. step size basically indicates the direction of the movement \n",
    "\n",
    "___Negative Jump___"
   ]
  },
  {
   "cell_type": "code",
   "execution_count": 24,
   "id": "8b1bcae6",
   "metadata": {},
   "outputs": [],
   "source": [
    "a = [10, 20, 30, 40, 50, 60, 70, 80]"
   ]
  },
  {
   "cell_type": "markdown",
   "id": "1ad1e540",
   "metadata": {},
   "source": [
    "___Applies only to List Slicing and not applicable to range function___\n",
    "\n",
    "==> a[5:1:-1] is same as a[5:-7:-1]\n",
    "\n",
    "==> a[-3:-7:-1] is same as a[-3:1:-1]"
   ]
  },
  {
   "cell_type": "code",
   "execution_count": 25,
   "id": "2d16b274",
   "metadata": {},
   "outputs": [
    {
     "data": {
      "text/plain": [
       "[60, 50, 40, 30]"
      ]
     },
     "execution_count": 25,
     "metadata": {},
     "output_type": "execute_result"
    }
   ],
   "source": [
    "a[5:1:-1]"
   ]
  },
  {
   "cell_type": "code",
   "execution_count": 26,
   "id": "0b1fa30f",
   "metadata": {},
   "outputs": [
    {
     "data": {
      "text/plain": [
       "[60, 50, 40, 30]"
      ]
     },
     "execution_count": 26,
     "metadata": {},
     "output_type": "execute_result"
    }
   ],
   "source": [
    "a[5:-7:-1]"
   ]
  },
  {
   "cell_type": "code",
   "execution_count": 27,
   "id": "faace045",
   "metadata": {},
   "outputs": [
    {
     "data": {
      "text/plain": [
       "[60, 50, 40, 30]"
      ]
     },
     "execution_count": 27,
     "metadata": {},
     "output_type": "execute_result"
    }
   ],
   "source": [
    "a[-3:-7:-1]"
   ]
  },
  {
   "cell_type": "code",
   "execution_count": 28,
   "id": "998b243e",
   "metadata": {},
   "outputs": [
    {
     "data": {
      "text/plain": [
       "[60, 50, 40, 30]"
      ]
     },
     "execution_count": 28,
     "metadata": {},
     "output_type": "execute_result"
    }
   ],
   "source": [
    "a[-3:1:-1]"
   ]
  },
  {
   "cell_type": "markdown",
   "id": "7a851696",
   "metadata": {},
   "source": [
    "List slicing will never return an error. Instead it will provide an empty list"
   ]
  },
  {
   "cell_type": "code",
   "execution_count": 30,
   "id": "2d8431d9",
   "metadata": {},
   "outputs": [
    {
     "data": {
      "text/plain": [
       "[62, 85, 77, 10, 101, 122, 99, 81, 15, 36]"
      ]
     },
     "execution_count": 30,
     "metadata": {},
     "output_type": "execute_result"
    }
   ],
   "source": [
    "runs"
   ]
  },
  {
   "cell_type": "code",
   "execution_count": 31,
   "id": "b1c8b6cd",
   "metadata": {},
   "outputs": [
    {
     "ename": "IndexError",
     "evalue": "list index out of range",
     "output_type": "error",
     "traceback": [
      "\u001b[1;31m---------------------------------------------------------------------------\u001b[0m",
      "\u001b[1;31mIndexError\u001b[0m                                Traceback (most recent call last)",
      "Cell \u001b[1;32mIn[31], line 1\u001b[0m\n\u001b[1;32m----> 1\u001b[0m runs[\u001b[38;5;241m400\u001b[39m]\n",
      "\u001b[1;31mIndexError\u001b[0m: list index out of range"
     ]
    }
   ],
   "source": [
    "runs[400] # Accessing an element present at 400th position. Will result in error as there is no element at 400th position"
   ]
  },
  {
   "cell_type": "code",
   "execution_count": 32,
   "id": "92cd3534",
   "metadata": {},
   "outputs": [
    {
     "data": {
      "text/plain": [
       "[]"
      ]
     },
     "execution_count": 32,
     "metadata": {},
     "output_type": "execute_result"
    }
   ],
   "source": [
    "runs[400:500] #Accessing a range of elements using slicing. It will result in an empty list. Special character of slicing"
   ]
  },
  {
   "cell_type": "code",
   "execution_count": 33,
   "id": "30f53369",
   "metadata": {},
   "outputs": [
    {
     "data": {
      "text/plain": [
       "[77, 10, 101, 122, 99, 81, 15, 36]"
      ]
     },
     "execution_count": 33,
     "metadata": {},
     "output_type": "execute_result"
    }
   ],
   "source": [
    "runs[2:40000] # Instead of giving an error, it will provide available elements. This is enable better flexibility "
   ]
  },
  {
   "cell_type": "code",
   "execution_count": 36,
   "id": "58b01b36",
   "metadata": {},
   "outputs": [
    {
     "data": {
      "text/plain": [
       "' Question 6 -\\n\\na = [10,20,30,40,50,60,70,80,90,100]\\n\\n1. a[3:5]\\n2. a[:8]\\n3. a[:]\\n4. a[7:]\\n5. a[-2:-5:-1]\\n6. a[-2:-7]\\n7. a[:-5]\\n8. a[-2:]\\n9. a[-8:5]\\n10. a[-8:5:-1] '"
      ]
     },
     "execution_count": 36,
     "metadata": {},
     "output_type": "execute_result"
    }
   ],
   "source": [
    " ''' Question 6 -\n",
    " \n",
    " a = [10,20,30,40,50,60,70,80,90,100]\n",
    " \n",
    " 1. a[3:5]\n",
    " 2. a[:8]\n",
    " 3. a[:]\n",
    " 4. a[7:]\n",
    " 5. a[-2:-5:-1]\n",
    " 6. a[-2:-7]\n",
    " 7. a[:-5]\n",
    " 8. a[-2:]\n",
    " 9. a[-8:5]\n",
    " 10. a[-8:5:-1] '''\n",
    "\n",
    "#Solve this first on a paper manually then use Python to check the answers"
   ]
  },
  {
   "cell_type": "code",
   "execution_count": 37,
   "id": "94d5c047",
   "metadata": {},
   "outputs": [],
   "source": [
    "a = [10,20,30,40,50,60,70,80,90,100]"
   ]
  },
  {
   "cell_type": "code",
   "execution_count": 38,
   "id": "0f6c9b22",
   "metadata": {},
   "outputs": [
    {
     "data": {
      "text/plain": [
       "[40, 50]"
      ]
     },
     "execution_count": 38,
     "metadata": {},
     "output_type": "execute_result"
    }
   ],
   "source": [
    "a[3:5]"
   ]
  },
  {
   "cell_type": "code",
   "execution_count": 39,
   "id": "0657a533",
   "metadata": {},
   "outputs": [
    {
     "data": {
      "text/plain": [
       "[10, 20, 30, 40, 50, 60, 70, 80]"
      ]
     },
     "execution_count": 39,
     "metadata": {},
     "output_type": "execute_result"
    }
   ],
   "source": [
    "a[:8]"
   ]
  },
  {
   "cell_type": "code",
   "execution_count": 40,
   "id": "23d2aee3",
   "metadata": {},
   "outputs": [
    {
     "data": {
      "text/plain": [
       "[10, 20, 30, 40, 50, 60, 70, 80, 90, 100]"
      ]
     },
     "execution_count": 40,
     "metadata": {},
     "output_type": "execute_result"
    }
   ],
   "source": [
    "a[:]"
   ]
  },
  {
   "cell_type": "code",
   "execution_count": 41,
   "id": "2fda470f",
   "metadata": {},
   "outputs": [
    {
     "data": {
      "text/plain": [
       "[80, 90, 100]"
      ]
     },
     "execution_count": 41,
     "metadata": {},
     "output_type": "execute_result"
    }
   ],
   "source": [
    "a[7:]"
   ]
  },
  {
   "cell_type": "code",
   "execution_count": 42,
   "id": "4329ca0c",
   "metadata": {},
   "outputs": [
    {
     "data": {
      "text/plain": [
       "[90, 80, 70]"
      ]
     },
     "execution_count": 42,
     "metadata": {},
     "output_type": "execute_result"
    }
   ],
   "source": [
    "a[-2:-5:-1]"
   ]
  },
  {
   "cell_type": "code",
   "execution_count": 43,
   "id": "3124f79b",
   "metadata": {},
   "outputs": [
    {
     "data": {
      "text/plain": [
       "[]"
      ]
     },
     "execution_count": 43,
     "metadata": {},
     "output_type": "execute_result"
    }
   ],
   "source": [
    "a[-2:-7]"
   ]
  },
  {
   "cell_type": "code",
   "execution_count": 44,
   "id": "ddfca8cf",
   "metadata": {},
   "outputs": [
    {
     "data": {
      "text/plain": [
       "[10, 20, 30, 40, 50]"
      ]
     },
     "execution_count": 44,
     "metadata": {},
     "output_type": "execute_result"
    }
   ],
   "source": [
    "a[:-5]"
   ]
  },
  {
   "cell_type": "code",
   "execution_count": 45,
   "id": "bfe1f9e3",
   "metadata": {},
   "outputs": [
    {
     "data": {
      "text/plain": [
       "[90, 100]"
      ]
     },
     "execution_count": 45,
     "metadata": {},
     "output_type": "execute_result"
    }
   ],
   "source": [
    "a[-2:]"
   ]
  },
  {
   "cell_type": "code",
   "execution_count": 46,
   "id": "5bc39bf3",
   "metadata": {},
   "outputs": [
    {
     "data": {
      "text/plain": [
       "[30, 40, 50]"
      ]
     },
     "execution_count": 46,
     "metadata": {},
     "output_type": "execute_result"
    }
   ],
   "source": [
    "a[-8:5]"
   ]
  },
  {
   "cell_type": "code",
   "execution_count": 47,
   "id": "52bfeee7",
   "metadata": {},
   "outputs": [
    {
     "data": {
      "text/plain": [
       "[]"
      ]
     },
     "execution_count": 47,
     "metadata": {},
     "output_type": "execute_result"
    }
   ],
   "source": [
    "a[-8:5:-1]"
   ]
  },
  {
   "cell_type": "markdown",
   "id": "5e559ffd",
   "metadata": {},
   "source": [
    "In Python, the list.index() method is used to find the index of the first occurrence of a specified element within the list. Here's how it works:\n",
    "\n",
    "Syntax:\n",
    "\n",
    "___list.index( element,  start,  end)___\n",
    "\n",
    "___Parameters:___\n",
    "\n",
    "___element:___ The element whose index you want to find within the list.\n",
    "\n",
    "___start (optional):___ The index from where the search starts. If not specified, the search starts from the beginning of the list.\n",
    "\n",
    "___end (optional):___ The index where the search ends. If not specified, the search continues till the end of the list.\n",
    "\n",
    "    \n",
    "___Return Value:___\n",
    "\n",
    "It returns the index of the first occurrence of the specified element in the list.\n",
    "If the specified element is not found in the list, it raises a ValueError exception.\n",
    "\n",
    "___Example:___"
   ]
  },
  {
   "cell_type": "code",
   "execution_count": 1,
   "id": "be6e87cd",
   "metadata": {},
   "outputs": [
    {
     "name": "stdout",
     "output_type": "stream",
     "text": [
      "1\n",
      "3\n",
      "3\n"
     ]
    }
   ],
   "source": [
    "my_list = [10, 20, 30, 20, 40, 50]\n",
    "print(my_list.index(20))  # Output: 1\n",
    "print(my_list.index(20, 2))  # Output: 3\n",
    "print(my_list.index(20, 2, 4))  # Output: 3"
   ]
  },
  {
   "cell_type": "markdown",
   "id": "1c6d4ad7",
   "metadata": {},
   "source": [
    "In the first example, my_list.index(20) returns 1, because 20 is first found at index 1 in the list.\n",
    "\n",
    "In the second example, my_list.index(20, 2) starts searching from index 2 and finds 20 at index 3.\n",
    "\n",
    "In the third example, my_list.index(20, 2, 4) starts searching from index 2 and stops at index 4 (exclusive). It finds 20 at index 3."
   ]
  },
  {
   "cell_type": "code",
   "execution_count": null,
   "id": "9a44e8f6",
   "metadata": {},
   "outputs": [],
   "source": []
  }
 ],
 "metadata": {
  "kernelspec": {
   "display_name": "Python 3 (ipykernel)",
   "language": "python",
   "name": "python3"
  },
  "language_info": {
   "codemirror_mode": {
    "name": "ipython",
    "version": 3
   },
   "file_extension": ".py",
   "mimetype": "text/x-python",
   "name": "python",
   "nbconvert_exporter": "python",
   "pygments_lexer": "ipython3",
   "version": "3.11.5"
  }
 },
 "nbformat": 4,
 "nbformat_minor": 5
}
